{
 "cells": [
  {
   "cell_type": "markdown",
   "metadata": {},
   "source": [
    "# Análise para todos os CSV's do mês"
   ]
  },
  {
   "cell_type": "markdown",
   "metadata": {},
   "source": [
    "## Importando bilbiotecas e todos os CSV's"
   ]
  },
  {
   "cell_type": "code",
   "execution_count": 1,
   "metadata": {},
   "outputs": [],
   "source": [
    "import pandas as pd\n",
    "import numpy as np\n",
    "import glob\n",
    "\n",
    "path = r'/home/cesar/Documents/freelas/csv' # use your path\n",
    "all_files = glob.glob(path + \"/*.csv\")"
   ]
  },
  {
   "cell_type": "markdown",
   "metadata": {},
   "source": [
    "## Criando lista de DataFrames com todos os CSV's do mês"
   ]
  },
  {
   "cell_type": "code",
   "execution_count": 2,
   "metadata": {},
   "outputs": [
    {
     "data": {
      "text/plain": [
       "32"
      ]
     },
     "execution_count": 2,
     "metadata": {},
     "output_type": "execute_result"
    }
   ],
   "source": [
    "li = []\n",
    "\n",
    "for filename in all_files:\n",
    "    df = pd.read_csv(filename, encoding=\"ISO-8859-1\", sep=',', header=1)\n",
    "    dados = df.iloc[6:,[0,1,2,3,4,5,6,7,8]]\n",
    "    li.append(dados)\n",
    "\n",
    "len(li)"
   ]
  },
  {
   "cell_type": "markdown",
   "metadata": {},
   "source": [
    "## Replace das vírgulas, formatação das colunas, e criação de todos os describes"
   ]
  },
  {
   "cell_type": "code",
   "execution_count": 3,
   "metadata": {},
   "outputs": [
    {
     "data": {
      "text/html": [
       "<div>\n",
       "<style scoped>\n",
       "    .dataframe tbody tr th:only-of-type {\n",
       "        vertical-align: middle;\n",
       "    }\n",
       "\n",
       "    .dataframe tbody tr th {\n",
       "        vertical-align: top;\n",
       "    }\n",
       "\n",
       "    .dataframe thead th {\n",
       "        text-align: right;\n",
       "    }\n",
       "</style>\n",
       "<table border=\"1\" class=\"dataframe\">\n",
       "  <thead>\n",
       "    <tr style=\"text-align: right;\">\n",
       "      <th></th>\n",
       "      <th>count</th>\n",
       "      <th>mean</th>\n",
       "      <th>std</th>\n",
       "      <th>min</th>\n",
       "      <th>25%</th>\n",
       "      <th>50%</th>\n",
       "      <th>75%</th>\n",
       "      <th>max</th>\n",
       "    </tr>\n",
       "  </thead>\n",
       "  <tbody>\n",
       "    <tr>\n",
       "      <th>Ed0Gnd</th>\n",
       "      <td>4319.0</td>\n",
       "      <td>2.164989</td>\n",
       "      <td>2.184340</td>\n",
       "      <td>0.000039</td>\n",
       "      <td>0.000044</td>\n",
       "      <td>0.000047</td>\n",
       "      <td>4.355050</td>\n",
       "      <td>4.805050</td>\n",
       "    </tr>\n",
       "    <tr>\n",
       "      <th>Ed0305</th>\n",
       "      <td>4319.0</td>\n",
       "      <td>2.087543</td>\n",
       "      <td>1.427696</td>\n",
       "      <td>0.001578</td>\n",
       "      <td>1.606250</td>\n",
       "      <td>1.789259</td>\n",
       "      <td>2.240211</td>\n",
       "      <td>9.920239</td>\n",
       "    </tr>\n",
       "    <tr>\n",
       "      <th>Ed0313</th>\n",
       "      <td>4319.0</td>\n",
       "      <td>4.618782</td>\n",
       "      <td>3.164056</td>\n",
       "      <td>0.000040</td>\n",
       "      <td>2.811885</td>\n",
       "      <td>3.487159</td>\n",
       "      <td>5.778149</td>\n",
       "      <td>12.409870</td>\n",
       "    </tr>\n",
       "    <tr>\n",
       "      <th>Ed0320</th>\n",
       "      <td>4319.0</td>\n",
       "      <td>8.290371</td>\n",
       "      <td>5.200071</td>\n",
       "      <td>0.001811</td>\n",
       "      <td>5.873447</td>\n",
       "      <td>6.766483</td>\n",
       "      <td>9.863161</td>\n",
       "      <td>20.591710</td>\n",
       "    </tr>\n",
       "    <tr>\n",
       "      <th>Ed0340</th>\n",
       "      <td>4319.0</td>\n",
       "      <td>11.750553</td>\n",
       "      <td>11.059024</td>\n",
       "      <td>0.002907</td>\n",
       "      <td>4.860926</td>\n",
       "      <td>5.459443</td>\n",
       "      <td>19.149555</td>\n",
       "      <td>36.676940</td>\n",
       "    </tr>\n",
       "    <tr>\n",
       "      <th>Ed0380</th>\n",
       "      <td>4319.0</td>\n",
       "      <td>14.657663</td>\n",
       "      <td>17.182699</td>\n",
       "      <td>0.006264</td>\n",
       "      <td>2.266529</td>\n",
       "      <td>4.212984</td>\n",
       "      <td>27.294950</td>\n",
       "      <td>51.663650</td>\n",
       "    </tr>\n",
       "    <tr>\n",
       "      <th>Ed0395</th>\n",
       "      <td>4319.0</td>\n",
       "      <td>15.247006</td>\n",
       "      <td>18.426389</td>\n",
       "      <td>0.000212</td>\n",
       "      <td>2.338959</td>\n",
       "      <td>3.095158</td>\n",
       "      <td>28.886640</td>\n",
       "      <td>54.576000</td>\n",
       "    </tr>\n",
       "    <tr>\n",
       "      <th>Ed0PAR</th>\n",
       "      <td>4319.0</td>\n",
       "      <td>3.483199</td>\n",
       "      <td>2.526689</td>\n",
       "      <td>0.002101</td>\n",
       "      <td>1.386044</td>\n",
       "      <td>3.121741</td>\n",
       "      <td>5.202959</td>\n",
       "      <td>9.996317</td>\n",
       "    </tr>\n",
       "  </tbody>\n",
       "</table>\n",
       "</div>"
      ],
      "text/plain": [
       "         count       mean        std       min       25%       50%        75%  \\\n",
       "Ed0Gnd  4319.0   2.164989   2.184340  0.000039  0.000044  0.000047   4.355050   \n",
       "Ed0305  4319.0   2.087543   1.427696  0.001578  1.606250  1.789259   2.240211   \n",
       "Ed0313  4319.0   4.618782   3.164056  0.000040  2.811885  3.487159   5.778149   \n",
       "Ed0320  4319.0   8.290371   5.200071  0.001811  5.873447  6.766483   9.863161   \n",
       "Ed0340  4319.0  11.750553  11.059024  0.002907  4.860926  5.459443  19.149555   \n",
       "Ed0380  4319.0  14.657663  17.182699  0.006264  2.266529  4.212984  27.294950   \n",
       "Ed0395  4319.0  15.247006  18.426389  0.000212  2.338959  3.095158  28.886640   \n",
       "Ed0PAR  4319.0   3.483199   2.526689  0.002101  1.386044  3.121741   5.202959   \n",
       "\n",
       "              max  \n",
       "Ed0Gnd   4.805050  \n",
       "Ed0305   9.920239  \n",
       "Ed0313  12.409870  \n",
       "Ed0320  20.591710  \n",
       "Ed0340  36.676940  \n",
       "Ed0380  51.663650  \n",
       "Ed0395  54.576000  \n",
       "Ed0PAR   9.996317  "
      ]
     },
     "execution_count": 3,
     "metadata": {},
     "output_type": "execute_result"
    }
   ],
   "source": [
    "dataDescribedAll = []\n",
    "for i in li:\n",
    "    i['Label'] = pd.to_datetime(i['Label'])\n",
    "    i['Ed0Gnd'] = i['Ed0Gnd'].replace('[^\\d.]', '', regex=True).astype(float)\n",
    "    i['Ed0305'] = i['Ed0305'].replace('[^\\d.]', '', regex=True).astype(float)\n",
    "    i['Ed0313'] = i['Ed0313'].replace('[^\\d.]', '', regex=True).astype(float)\n",
    "    i['Ed0320'] = i['Ed0320'].replace('[^\\d.]', '', regex=True).astype(float)\n",
    "    i['Ed0340'] = i['Ed0340'].replace('[^\\d.]', '', regex=True).astype(float)\n",
    "    i['Ed0380'] = i['Ed0380'].replace('[^\\d.]', '', regex=True).astype(float)\n",
    "    i['Ed0395'] = i['Ed0395'].replace('[^\\d.]', '', regex=True).astype(float)\n",
    "    i['Ed0PAR'] = i['Ed0PAR'].replace('[^\\d.]', '', regex=True).astype(float)\n",
    "    dataDescribedAll.append(i.describe().T)\n",
    "\n",
    "dataDescribedAll[0]"
   ]
  },
  {
   "cell_type": "markdown",
   "metadata": {},
   "source": [
    "## Encontrando os máximos de todos os canais"
   ]
  },
  {
   "cell_type": "code",
   "execution_count": 4,
   "metadata": {},
   "outputs": [
    {
     "data": {
      "text/html": [
       "<div>\n",
       "<style scoped>\n",
       "    .dataframe tbody tr th:only-of-type {\n",
       "        vertical-align: middle;\n",
       "    }\n",
       "\n",
       "    .dataframe tbody tr th {\n",
       "        vertical-align: top;\n",
       "    }\n",
       "\n",
       "    .dataframe thead th {\n",
       "        text-align: right;\n",
       "    }\n",
       "</style>\n",
       "<table border=\"1\" class=\"dataframe\">\n",
       "  <thead>\n",
       "    <tr style=\"text-align: right;\">\n",
       "      <th></th>\n",
       "      <th>Label</th>\n",
       "      <th>Ed0305</th>\n",
       "    </tr>\n",
       "  </thead>\n",
       "  <tbody>\n",
       "    <tr>\n",
       "      <th>3592</th>\n",
       "      <td>2020-06-28 19:55:41</td>\n",
       "      <td>9.982384</td>\n",
       "    </tr>\n",
       "  </tbody>\n",
       "</table>\n",
       "</div>"
      ],
      "text/plain": [
       "                   Label    Ed0305\n",
       "3592 2020-06-28 19:55:41  9.982384"
      ]
     },
     "execution_count": 4,
     "metadata": {},
     "output_type": "execute_result"
    }
   ],
   "source": [
    "#obtém os máximos e respectivos horários(horaMax)\n",
    "a = []\n",
    "b = []\n",
    "c = []\n",
    "d = []\n",
    "e = []\n",
    "f = []\n",
    "g = []\n",
    "h = []\n",
    "\n",
    "for i in li:    \n",
    "    a.append(i[['Label', 'Ed0Gnd']][i.Ed0Gnd == i.Ed0Gnd.max()])\n",
    "    b.append(i[['Label', 'Ed0305']][i.Ed0305 == i.Ed0305.max()])\n",
    "    c.append(i[['Label', 'Ed0313']][i.Ed0313 == i.Ed0313.max()])\n",
    "    d.append(i[['Label', 'Ed0320']][i.Ed0320 == i.Ed0320.max()])\n",
    "    e.append(i[['Label', 'Ed0340']][i.Ed0340 == i.Ed0340.max()])\n",
    "    f.append(i[['Label', 'Ed0380']][i.Ed0380 == i.Ed0380.max()])\n",
    "    g.append(i[['Label', 'Ed0395']][i.Ed0395 == i.Ed0395.max()])\n",
    "    h.append(i[['Label', 'Ed0PAR']][i.Ed0PAR == i.Ed0PAR.max()])\n",
    "b[2]"
   ]
  },
  {
   "cell_type": "markdown",
   "metadata": {},
   "source": [
    "## Cria novo DataFrame com Canal e horaMax"
   ]
  },
  {
   "cell_type": "code",
   "execution_count": 5,
   "metadata": {},
   "outputs": [
    {
     "data": {
      "text/html": [
       "<div>\n",
       "<style scoped>\n",
       "    .dataframe tbody tr th:only-of-type {\n",
       "        vertical-align: middle;\n",
       "    }\n",
       "\n",
       "    .dataframe tbody tr th {\n",
       "        vertical-align: top;\n",
       "    }\n",
       "\n",
       "    .dataframe thead th {\n",
       "        text-align: right;\n",
       "    }\n",
       "</style>\n",
       "<table border=\"1\" class=\"dataframe\">\n",
       "  <thead>\n",
       "    <tr style=\"text-align: right;\">\n",
       "      <th></th>\n",
       "      <th>Canal</th>\n",
       "      <th>horaMax</th>\n",
       "    </tr>\n",
       "  </thead>\n",
       "  <tbody>\n",
       "    <tr>\n",
       "      <th>3180</th>\n",
       "      <td>Ed0Gnd</td>\n",
       "      <td>2020-06-24 17:38:21</td>\n",
       "    </tr>\n",
       "    <tr>\n",
       "      <th>2000</th>\n",
       "      <td>Ed0305</td>\n",
       "      <td>2020-06-24 11:05:01</td>\n",
       "    </tr>\n",
       "    <tr>\n",
       "      <th>2757</th>\n",
       "      <td>Ed0313</td>\n",
       "      <td>2020-06-24 15:17:21</td>\n",
       "    </tr>\n",
       "    <tr>\n",
       "      <th>2757</th>\n",
       "      <td>Ed0320</td>\n",
       "      <td>2020-06-24 15:17:21</td>\n",
       "    </tr>\n",
       "    <tr>\n",
       "      <th>2757</th>\n",
       "      <td>Ed0340</td>\n",
       "      <td>2020-06-24 15:17:21</td>\n",
       "    </tr>\n",
       "    <tr>\n",
       "      <th>2757</th>\n",
       "      <td>Ed0380</td>\n",
       "      <td>2020-06-24 15:17:21</td>\n",
       "    </tr>\n",
       "    <tr>\n",
       "      <th>2757</th>\n",
       "      <td>Ed0395</td>\n",
       "      <td>2020-06-24 15:17:21</td>\n",
       "    </tr>\n",
       "    <tr>\n",
       "      <th>2300</th>\n",
       "      <td>Ed0PAR</td>\n",
       "      <td>2020-06-24 12:45:01</td>\n",
       "    </tr>\n",
       "  </tbody>\n",
       "</table>\n",
       "</div>"
      ],
      "text/plain": [
       "       Canal             horaMax\n",
       "3180  Ed0Gnd 2020-06-24 17:38:21\n",
       "2000  Ed0305 2020-06-24 11:05:01\n",
       "2757  Ed0313 2020-06-24 15:17:21\n",
       "2757  Ed0320 2020-06-24 15:17:21\n",
       "2757  Ed0340 2020-06-24 15:17:21\n",
       "2757  Ed0380 2020-06-24 15:17:21\n",
       "2757  Ed0395 2020-06-24 15:17:21\n",
       "2300  Ed0PAR 2020-06-24 12:45:01"
      ]
     },
     "execution_count": 5,
     "metadata": {},
     "output_type": "execute_result"
    }
   ],
   "source": [
    "##### concatena o horaMax\n",
    "canais = np.array(['Ed0Gnd','Ed0305','Ed0313','Ed0320','Ed0340','Ed0380','Ed0395','Ed0PAR'])\n",
    "horaMax = []\n",
    "dataSet = []\n",
    "for i in range(len(li)):\n",
    "    horaMax.append(pd.concat([a[i]['Label'], b[i]['Label'], c[i]['Label'], d[i]['Label'], e[i]['Label'], f[i]['Label'], g[i]['Label'], h[i]['Label']]))\n",
    "\n",
    "dataSet.append(pd.DataFrame(data = {'Canal':canais, 'horaMax':horaMax[0]}))\n",
    "dataSet.append(pd.DataFrame(data = {'Canal':canais, 'horaMax':horaMax[1]}))\n",
    "dataSet.append(pd.DataFrame(data = {'Canal':canais, 'horaMax':horaMax[2]}))\n",
    "dataSet.append(pd.DataFrame(data = {'Canal':canais, 'horaMax':horaMax[3]}))\n",
    "dataSet.append(pd.DataFrame(data = {'Canal':canais, 'horaMax':horaMax[4]}))\n",
    "dataSet.append(pd.DataFrame(data = {'Canal':canais, 'horaMax':horaMax[5]}))\n",
    "dataSet.append(pd.DataFrame(data = {'Canal':canais, 'horaMax':horaMax[6]}))\n",
    "dataSet[6]\n",
    "# dataset = pd.DataFrame(data = {'Canal':canais, 'horaMax':horaMax})\n",
    "# dataset\n",
    "# dataset[15]"
   ]
  },
  {
   "cell_type": "code",
   "execution_count": 6,
   "metadata": {},
   "outputs": [],
   "source": [
    "# #converte formato das colunas\n",
    "# frame.Label = pd.to_datetime(frame.Label)\n",
    "# frame.Ed0305 = frame.Ed0305.replace('[^\\d.]', '', regex=True).astype(float)\n",
    "# frame.Ed0313 = frame.Ed0313.replace('[^\\d.]', '', regex=True).astype(float)\n",
    "# frame.Ed0320 = frame.Ed0320.replace('[^\\d.]', '', regex=True).astype(float)\n",
    "# frame.Ed0340 = frame.Ed0340.replace('[^\\d.]', '', regex=True).astype(float)\n",
    "# frame.Ed0380 = frame.Ed0380.replace('[^\\d.]', '', regex=True).astype(float)\n",
    "# frame.Ed0395 = frame.Ed0395.replace('[^\\d.]', '', regex=True).astype(float)\n",
    "# frame.Ed0PAR = frame.Ed0PAR.replace('[^\\d.]', '', regex=True).astype(float)"
   ]
  },
  {
   "cell_type": "code",
   "execution_count": 7,
   "metadata": {},
   "outputs": [],
   "source": [
    "# frame"
   ]
  },
  {
   "cell_type": "code",
   "execution_count": 8,
   "metadata": {},
   "outputs": [],
   "source": [
    "# # Coluna 'Data'\n",
    "# frame['Data'] = frame.Label.dt.strftime('%Y-%d-%m')\n",
    "# # Coluna 'Hora'\n",
    "# frame['Hora'] = frame.Label.dt.strftime('%H:%M:%S')"
   ]
  },
  {
   "cell_type": "code",
   "execution_count": 9,
   "metadata": {},
   "outputs": [],
   "source": [
    "# grouped = frame[['Ed0305', 'Ed0313']].groupby(frame['Label'])\n",
    "# #'Ed0320','Ed0340','Ed0380','Ed0395','Ed0PAR'"
   ]
  },
  {
   "cell_type": "code",
   "execution_count": 10,
   "metadata": {},
   "outputs": [],
   "source": [
    "# grouped.max()"
   ]
  },
  {
   "cell_type": "code",
   "execution_count": 11,
   "metadata": {},
   "outputs": [],
   "source": [
    "# df2 = []\n",
    "# for i in dataDescribedAll:\n",
    "#     df2.append(pd.DataFrame(i, columns = ['count', 'mean', 'std', 'min', '25%', '50%', '75%', 'max']))\n",
    "#     df2['Ed0'] = ['Ed0Gnd','Ed0305','Ed0313','Ed0320','Ed0340','Ed0380','Ed0395','Ed0PAR']\n",
    "\n",
    "# #ajuste para comparação do data(describe) com horaMax\n",
    "# df2 = pd.DataFrame(data, columns = ['count', 'mean', 'std', 'min', '25%', '50%', '75%', 'max'])\n",
    "# #df2['nova_coluna'] = 'NaN'\n",
    "# df2['Ed0'] = ['Ed0Gnd','Ed0305','Ed0313','Ed0320','Ed0340','Ed0380','Ed0395','Ed0PAR']\n",
    "# # print(df2)\n",
    "# df2"
   ]
  },
  {
   "cell_type": "code",
   "execution_count": null,
   "metadata": {},
   "outputs": [],
   "source": []
  }
 ],
 "metadata": {
  "kernelspec": {
   "display_name": "Python 3",
   "language": "python",
   "name": "python3"
  },
  "language_info": {
   "codemirror_mode": {
    "name": "ipython",
    "version": 3
   },
   "file_extension": ".py",
   "mimetype": "text/x-python",
   "name": "python",
   "nbconvert_exporter": "python",
   "pygments_lexer": "ipython3",
   "version": "3.6.9"
  }
 },
 "nbformat": 4,
 "nbformat_minor": 4
}
