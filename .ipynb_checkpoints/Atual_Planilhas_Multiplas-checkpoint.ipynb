{
 "cells": [
  {
   "cell_type": "markdown",
   "metadata": {},
   "source": [
    "# Análise para todos os CSV's do mês"
   ]
  },
  {
   "cell_type": "markdown",
   "metadata": {},
   "source": [
    "## Importando bilbiotecas e todos os CSV's"
   ]
  },
  {
   "cell_type": "code",
   "execution_count": 1,
   "metadata": {},
   "outputs": [],
   "source": [
    "import pandas as pd\n",
    "import numpy as np\n",
    "import glob\n",
    "\n",
    "path = r'/home/cesar/Documents/freelas/csv' # use your path\n",
    "all_files = glob.glob(path + \"/*.csv\")"
   ]
  },
  {
   "cell_type": "markdown",
   "metadata": {},
   "source": [
    "## Criando lista de DataFrames com todos os CSV's do mês"
   ]
  },
  {
   "cell_type": "code",
   "execution_count": 2,
   "metadata": {},
   "outputs": [
    {
     "data": {
      "text/plain": [
       "32"
      ]
     },
     "execution_count": 2,
     "metadata": {},
     "output_type": "execute_result"
    }
   ],
   "source": [
    "li = []\n",
    "\n",
    "for filename in all_files:\n",
    "    df = pd.read_csv(filename, encoding=\"ISO-8859-1\", sep=',', header=1)\n",
    "    dados = df.iloc[6:,[0,1,2,3,4,5,6,7,8]]\n",
    "    li.append(dados)\n",
    "\n",
    "len(li)"
   ]
  },
  {
   "cell_type": "markdown",
   "metadata": {},
   "source": [
    "## Replace das vírgulas, formatação das colunas, e criação de todos os describes"
   ]
  },
  {
   "cell_type": "code",
   "execution_count": 32,
   "metadata": {},
   "outputs": [],
   "source": [
    "dataDescribedAll = []\n",
    "for i in li:\n",
    "    i['Label'] = pd.to_datetime(i['Label'])\n",
    "    i['Ed0Gnd'] = i['Ed0Gnd'].replace('[^\\d.]', '', regex=True).astype(float)\n",
    "    i['Ed0305'] = i['Ed0305'].replace('[^\\d.]', '', regex=True).astype(float)\n",
    "    i['Ed0313'] = i['Ed0313'].replace('[^\\d.]', '', regex=True).astype(float)\n",
    "    i['Ed0320'] = i['Ed0320'].replace('[^\\d.]', '', regex=True).astype(float)\n",
    "    i['Ed0340'] = i['Ed0340'].replace('[^\\d.]', '', regex=True).astype(float)\n",
    "    i['Ed0380'] = i['Ed0380'].replace('[^\\d.]', '', regex=True).astype(float)\n",
    "    i['Ed0395'] = i['Ed0395'].replace('[^\\d.]', '', regex=True).astype(float)\n",
    "    i['Ed0PAR'] = i['Ed0PAR'].replace('[^\\d.]', '', regex=True).astype(float)\n",
    "    dataDescribedAll.append(i.describe().T)"
   ]
  },
  {
   "cell_type": "code",
   "execution_count": 33,
   "metadata": {},
   "outputs": [
    {
     "data": {
      "text/html": [
       "<div>\n",
       "<style scoped>\n",
       "    .dataframe tbody tr th:only-of-type {\n",
       "        vertical-align: middle;\n",
       "    }\n",
       "\n",
       "    .dataframe tbody tr th {\n",
       "        vertical-align: top;\n",
       "    }\n",
       "\n",
       "    .dataframe thead th {\n",
       "        text-align: right;\n",
       "    }\n",
       "</style>\n",
       "<table border=\"1\" class=\"dataframe\">\n",
       "  <thead>\n",
       "    <tr style=\"text-align: right;\">\n",
       "      <th></th>\n",
       "      <th>count</th>\n",
       "      <th>mean</th>\n",
       "      <th>std</th>\n",
       "      <th>min</th>\n",
       "      <th>25%</th>\n",
       "      <th>50%</th>\n",
       "      <th>75%</th>\n",
       "      <th>max</th>\n",
       "    </tr>\n",
       "  </thead>\n",
       "  <tbody>\n",
       "    <tr>\n",
       "      <th>Ed0Gnd</th>\n",
       "      <td>4319.0</td>\n",
       "      <td>2.164989</td>\n",
       "      <td>2.184340</td>\n",
       "      <td>0.000039</td>\n",
       "      <td>0.000044</td>\n",
       "      <td>0.000047</td>\n",
       "      <td>4.355050</td>\n",
       "      <td>4.805050</td>\n",
       "    </tr>\n",
       "    <tr>\n",
       "      <th>Ed0305</th>\n",
       "      <td>4319.0</td>\n",
       "      <td>2.087543</td>\n",
       "      <td>1.427696</td>\n",
       "      <td>0.001578</td>\n",
       "      <td>1.606250</td>\n",
       "      <td>1.789259</td>\n",
       "      <td>2.240211</td>\n",
       "      <td>9.920239</td>\n",
       "    </tr>\n",
       "    <tr>\n",
       "      <th>Ed0313</th>\n",
       "      <td>4319.0</td>\n",
       "      <td>4.618782</td>\n",
       "      <td>3.164056</td>\n",
       "      <td>0.000040</td>\n",
       "      <td>2.811885</td>\n",
       "      <td>3.487159</td>\n",
       "      <td>5.778149</td>\n",
       "      <td>12.409870</td>\n",
       "    </tr>\n",
       "    <tr>\n",
       "      <th>Ed0320</th>\n",
       "      <td>4319.0</td>\n",
       "      <td>8.290371</td>\n",
       "      <td>5.200071</td>\n",
       "      <td>0.001811</td>\n",
       "      <td>5.873447</td>\n",
       "      <td>6.766483</td>\n",
       "      <td>9.863161</td>\n",
       "      <td>20.591710</td>\n",
       "    </tr>\n",
       "    <tr>\n",
       "      <th>Ed0340</th>\n",
       "      <td>4319.0</td>\n",
       "      <td>11.750553</td>\n",
       "      <td>11.059024</td>\n",
       "      <td>0.002907</td>\n",
       "      <td>4.860926</td>\n",
       "      <td>5.459443</td>\n",
       "      <td>19.149555</td>\n",
       "      <td>36.676940</td>\n",
       "    </tr>\n",
       "    <tr>\n",
       "      <th>Ed0380</th>\n",
       "      <td>4319.0</td>\n",
       "      <td>14.657663</td>\n",
       "      <td>17.182699</td>\n",
       "      <td>0.006264</td>\n",
       "      <td>2.266529</td>\n",
       "      <td>4.212984</td>\n",
       "      <td>27.294950</td>\n",
       "      <td>51.663650</td>\n",
       "    </tr>\n",
       "    <tr>\n",
       "      <th>Ed0395</th>\n",
       "      <td>4319.0</td>\n",
       "      <td>15.247006</td>\n",
       "      <td>18.426389</td>\n",
       "      <td>0.000212</td>\n",
       "      <td>2.338959</td>\n",
       "      <td>3.095158</td>\n",
       "      <td>28.886640</td>\n",
       "      <td>54.576000</td>\n",
       "    </tr>\n",
       "    <tr>\n",
       "      <th>Ed0PAR</th>\n",
       "      <td>4319.0</td>\n",
       "      <td>3.483199</td>\n",
       "      <td>2.526689</td>\n",
       "      <td>0.002101</td>\n",
       "      <td>1.386044</td>\n",
       "      <td>3.121741</td>\n",
       "      <td>5.202959</td>\n",
       "      <td>9.996317</td>\n",
       "    </tr>\n",
       "  </tbody>\n",
       "</table>\n",
       "</div>"
      ],
      "text/plain": [
       "         count       mean        std       min       25%       50%        75%  \\\n",
       "Ed0Gnd  4319.0   2.164989   2.184340  0.000039  0.000044  0.000047   4.355050   \n",
       "Ed0305  4319.0   2.087543   1.427696  0.001578  1.606250  1.789259   2.240211   \n",
       "Ed0313  4319.0   4.618782   3.164056  0.000040  2.811885  3.487159   5.778149   \n",
       "Ed0320  4319.0   8.290371   5.200071  0.001811  5.873447  6.766483   9.863161   \n",
       "Ed0340  4319.0  11.750553  11.059024  0.002907  4.860926  5.459443  19.149555   \n",
       "Ed0380  4319.0  14.657663  17.182699  0.006264  2.266529  4.212984  27.294950   \n",
       "Ed0395  4319.0  15.247006  18.426389  0.000212  2.338959  3.095158  28.886640   \n",
       "Ed0PAR  4319.0   3.483199   2.526689  0.002101  1.386044  3.121741   5.202959   \n",
       "\n",
       "              max  \n",
       "Ed0Gnd   4.805050  \n",
       "Ed0305   9.920239  \n",
       "Ed0313  12.409870  \n",
       "Ed0320  20.591710  \n",
       "Ed0340  36.676940  \n",
       "Ed0380  51.663650  \n",
       "Ed0395  54.576000  \n",
       "Ed0PAR   9.996317  "
      ]
     },
     "execution_count": 33,
     "metadata": {},
     "output_type": "execute_result"
    }
   ],
   "source": [
    "dataDescribedAll[0]"
   ]
  },
  {
   "cell_type": "markdown",
   "metadata": {},
   "source": [
    "## Encontrando os máximos de todos os canais"
   ]
  },
  {
   "cell_type": "code",
   "execution_count": 89,
   "metadata": {},
   "outputs": [
    {
     "data": {
      "text/html": [
       "<div>\n",
       "<style scoped>\n",
       "    .dataframe tbody tr th:only-of-type {\n",
       "        vertical-align: middle;\n",
       "    }\n",
       "\n",
       "    .dataframe tbody tr th {\n",
       "        vertical-align: top;\n",
       "    }\n",
       "\n",
       "    .dataframe thead th {\n",
       "        text-align: right;\n",
       "    }\n",
       "</style>\n",
       "<table border=\"1\" class=\"dataframe\">\n",
       "  <thead>\n",
       "    <tr style=\"text-align: right;\">\n",
       "      <th></th>\n",
       "      <th>Label</th>\n",
       "      <th>Ed0Gnd</th>\n",
       "    </tr>\n",
       "  </thead>\n",
       "  <tbody>\n",
       "    <tr>\n",
       "      <th>2285</th>\n",
       "      <td>2020-02-19 12:40:04</td>\n",
       "      <td>999.0</td>\n",
       "    </tr>\n",
       "    <tr>\n",
       "      <th>2288</th>\n",
       "      <td>2020-02-19 12:41:04</td>\n",
       "      <td>999.0</td>\n",
       "    </tr>\n",
       "    <tr>\n",
       "      <th>2295</th>\n",
       "      <td>2020-02-19 12:43:24</td>\n",
       "      <td>999.0</td>\n",
       "    </tr>\n",
       "    <tr>\n",
       "      <th>2296</th>\n",
       "      <td>2020-02-19 12:43:44</td>\n",
       "      <td>999.0</td>\n",
       "    </tr>\n",
       "    <tr>\n",
       "      <th>2300</th>\n",
       "      <td>2020-02-19 12:45:04</td>\n",
       "      <td>999.0</td>\n",
       "    </tr>\n",
       "    <tr>\n",
       "      <th>...</th>\n",
       "      <td>...</td>\n",
       "      <td>...</td>\n",
       "    </tr>\n",
       "    <tr>\n",
       "      <th>3798</th>\n",
       "      <td>2020-02-19 21:04:24</td>\n",
       "      <td>999.0</td>\n",
       "    </tr>\n",
       "    <tr>\n",
       "      <th>3805</th>\n",
       "      <td>2020-02-19 21:06:44</td>\n",
       "      <td>999.0</td>\n",
       "    </tr>\n",
       "    <tr>\n",
       "      <th>3806</th>\n",
       "      <td>2020-02-19 21:07:04</td>\n",
       "      <td>999.0</td>\n",
       "    </tr>\n",
       "    <tr>\n",
       "      <th>3811</th>\n",
       "      <td>2020-02-19 21:08:44</td>\n",
       "      <td>999.0</td>\n",
       "    </tr>\n",
       "    <tr>\n",
       "      <th>3813</th>\n",
       "      <td>2020-02-19 21:09:24</td>\n",
       "      <td>999.0</td>\n",
       "    </tr>\n",
       "  </tbody>\n",
       "</table>\n",
       "<p>71 rows × 2 columns</p>\n",
       "</div>"
      ],
      "text/plain": [
       "                   Label  Ed0Gnd\n",
       "2285 2020-02-19 12:40:04   999.0\n",
       "2288 2020-02-19 12:41:04   999.0\n",
       "2295 2020-02-19 12:43:24   999.0\n",
       "2296 2020-02-19 12:43:44   999.0\n",
       "2300 2020-02-19 12:45:04   999.0\n",
       "...                  ...     ...\n",
       "3798 2020-02-19 21:04:24   999.0\n",
       "3805 2020-02-19 21:06:44   999.0\n",
       "3806 2020-02-19 21:07:04   999.0\n",
       "3811 2020-02-19 21:08:44   999.0\n",
       "3813 2020-02-19 21:09:24   999.0\n",
       "\n",
       "[71 rows x 2 columns]"
      ]
     },
     "execution_count": 89,
     "metadata": {},
     "output_type": "execute_result"
    }
   ],
   "source": [
    "#obtém os máximos e respectivos horários(horaMax)\n",
    "a = []\n",
    "b = []\n",
    "c = []\n",
    "d = []\n",
    "e = []\n",
    "f = []\n",
    "g = []\n",
    "h = []\n",
    "\n",
    "for i in li:    \n",
    "    a.append(i[['Label', 'Ed0Gnd']][i.Ed0Gnd == i.Ed0Gnd.max()])\n",
    "    b.append(i[['Label', 'Ed0305']][i.Ed0305 == i.Ed0305.max()])\n",
    "    c.append(i[['Label', 'Ed0313']][i.Ed0313 == i.Ed0313.max()])\n",
    "    d.append(i[['Label', 'Ed0320']][i.Ed0320 == i.Ed0320.max()])\n",
    "    e.append(i[['Label', 'Ed0340']][i.Ed0340 == i.Ed0340.max()])\n",
    "    f.append(i[['Label', 'Ed0380']][i.Ed0380 == i.Ed0380.max()])\n",
    "    g.append(i[['Label', 'Ed0395']][i.Ed0395 == i.Ed0395.max()])\n",
    "    h.append(i[['Label', 'Ed0PAR']][i.Ed0PAR == i.Ed0PAR.max()])\n",
    "    \n",
    "a[9]"
   ]
  },
  {
   "cell_type": "markdown",
   "metadata": {},
   "source": [
    "## Cria novo DataFrame com Canal e horaMax"
   ]
  },
  {
   "cell_type": "code",
   "execution_count": 77,
   "metadata": {},
   "outputs": [
    {
     "data": {
      "text/plain": [
       "3233   2020-12-06 17:56:01\n",
       "3615   2020-12-06 20:03:21\n",
       "2742   2020-12-06 15:12:21\n",
       "2742   2020-12-06 15:12:21\n",
       "2742   2020-12-06 15:12:21\n",
       "2742   2020-12-06 15:12:21\n",
       "2742   2020-12-06 15:12:21\n",
       "1547   2020-12-06 08:34:01\n",
       "Name: Label, dtype: datetime64[ns]"
      ]
     },
     "execution_count": 77,
     "metadata": {},
     "output_type": "execute_result"
    }
   ],
   "source": [
    "##### concatena o horaMax\n",
    "horaMax = []\n",
    "dataSet = []\n",
    "canais = np.array(['Ed0Gnd','Ed0305','Ed0313','Ed0320','Ed0340','Ed0380','Ed0395','Ed0PAR'])\n",
    "\n",
    "for i in range(len(li)):\n",
    "    horaMax.append(pd.concat([a[i]['Label'], b[i]['Label'], c[i]['Label'], d[i]['Label'], e[i]['Label'], f[i]['Label'], g[i]['Label'], h[i]['Label']]))\n",
    "\n",
    "dataSet.append(pd.DataFrame(data = {'Canal':canais, 'horaMax':horaMax[0]}))\n",
    "dataSet.append(pd.DataFrame(data = {'Canal':canais, 'horaMax':horaMax[1]}))\n",
    "dataSet.append(pd.DataFrame(data = {'Canal':canais, 'horaMax':horaMax[2]}))\n",
    "dataSet.append(pd.DataFrame(data = {'Canal':canais, 'horaMax':horaMax[3]}))\n",
    "dataSet.append(pd.DataFrame(data = {'Canal':canais, 'horaMax':horaMax[4]}))\n",
    "dataSet.append(pd.DataFrame(data = {'Canal':canais, 'horaMax':horaMax[5]}))\n",
    "dataSet.append(pd.DataFrame(data = {'Canal':canais, 'horaMax':horaMax[6]}))\n",
    "dataSet.append(pd.DataFrame(data = {'Canal':canais, 'horaMax':horaMax[7]}))\n",
    "dataSet.append(pd.DataFrame(data = {'Canal':canais, 'horaMax':horaMax[8]}))\n",
    "# dataSet.append(pd.DataFrame(data = {'Canal':canais, 'horaMax':horaMax[9]})) -> ERRO!!!!!!!!!!!\n",
    "# dataSet.append(pd.DataFrame(data = {'Canal':canais, 'horaMax':horaMax[10]}))\n",
    "# dataSet.append(pd.DataFrame(data = {'Canal':canais, 'horaMax':horaMax[11]}))\n",
    "horaMax[1]"
   ]
  },
  {
   "cell_type": "code",
   "execution_count": null,
   "metadata": {},
   "outputs": [],
   "source": []
  }
 ],
 "metadata": {
  "kernelspec": {
   "display_name": "Python 3",
   "language": "python",
   "name": "python3"
  },
  "language_info": {
   "codemirror_mode": {
    "name": "ipython",
    "version": 3
   },
   "file_extension": ".py",
   "mimetype": "text/x-python",
   "name": "python",
   "nbconvert_exporter": "python",
   "pygments_lexer": "ipython3",
   "version": "3.6.9"
  }
 },
 "nbformat": 4,
 "nbformat_minor": 4
}
