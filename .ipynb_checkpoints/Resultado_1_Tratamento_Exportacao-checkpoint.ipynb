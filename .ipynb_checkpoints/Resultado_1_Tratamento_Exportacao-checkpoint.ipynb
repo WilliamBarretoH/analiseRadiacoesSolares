{
 "cells": [
  {
   "cell_type": "code",
   "execution_count": 1,
   "metadata": {},
   "outputs": [],
   "source": [
    "import pandas as pd\n",
    "import numpy as np\n",
    "import matplotlib.pyplot as plt\n",
    "import datetime\n",
    "\n",
    "df = pd.read_csv('/home/william/Desktop/analiseDados/csv/2020_06_01_0000.csv', encoding=\"ISO-8859-1\", sep=',', header=1)"
   ]
  },
  {
   "cell_type": "code",
   "execution_count": 10,
   "metadata": {},
   "outputs": [],
   "source": [
    "#ajusta o cabeçalho\n",
    "dados = df.iloc[6:,[0,1,2,3,4,5,6,7,8]]\n",
    "#converte formato das colunas\n",
    "dados.Label = pd.to_datetime(dados.Label)\n",
    "dados.Ed0Gnd = dados.Ed0Gnd.replace('[^\\d.]', '', regex=True).astype(float)\n",
    "dados.Ed0305 = dados.Ed0305.replace('[^\\d.]', '', regex=True).astype(float)\n",
    "dados.Ed0313 = dados.Ed0313.replace('[^\\d.]', '', regex=True).astype(float)\n",
    "dados.Ed0320 = dados.Ed0320.replace('[^\\d.]', '', regex=True).astype(float)\n",
    "dados.Ed0340 = dados.Ed0340.replace('[^\\d.]', '', regex=True).astype(float)\n",
    "dados.Ed0380 = dados.Ed0380.replace('[^\\d.]', '', regex=True).astype(float)\n",
    "dados.Ed0395 = dados.Ed0395.replace('[^\\d.]', '', regex=True).astype(float)\n",
    "dados.Ed0PAR = dados.Ed0PAR.replace('[^\\d.]', '', regex=True).astype(float)\n",
    "\n"
   ]
  },
  {
   "cell_type": "code",
   "execution_count": 3,
   "metadata": {},
   "outputs": [
    {
     "name": "stdout",
     "output_type": "stream",
     "text": [
      "         count       mean        std       min       25%       50%        75%  \\\n",
      "Ed0Gnd  4319.0   2.143340   2.220579  0.000039  0.000044  0.000048   4.405050   \n",
      "Ed0305  4319.0   2.366812   1.439634  0.001884  1.874647  2.123181   2.647303   \n",
      "Ed0313  4319.0   4.952980   3.499040  0.000040  2.852367  3.766019   6.105589   \n",
      "Ed0320  4319.0   8.202170   5.704633  0.000533  5.087878  6.066316   9.811691   \n",
      "Ed0340  4319.0  11.797413  11.653782  0.001559  3.997409  5.473549  19.357865   \n",
      "Ed0380  4319.0  15.566234  17.388835  0.010562  2.950017  5.807789  28.434180   \n",
      "Ed0395  4319.0  15.839829  18.918314  0.000212  2.361434  3.497157  30.552360   \n",
      "Ed0PAR  4319.0   3.022972   2.669122  0.003991  1.026581  2.223126   4.063308   \n",
      "\n",
      "              max  \n",
      "Ed0Gnd   5.025050  \n",
      "Ed0305   9.981856  \n",
      "Ed0313  13.200840  \n",
      "Ed0320  21.204740  \n",
      "Ed0340  36.986190  \n",
      "Ed0380  52.056870  \n",
      "Ed0395  55.078570  \n",
      "Ed0PAR   9.990666  \n"
     ]
    }
   ],
   "source": [
    "#faz a estatística descritiva e transpõe o resultado\n",
    "data = dados.describe().T\n",
    "print(data)"
   ]
  },
  {
   "cell_type": "code",
   "execution_count": 4,
   "metadata": {},
   "outputs": [],
   "source": [
    "#ajuste para comparação do data(describe) com horaMax\n",
    "df2 = pd.DataFrame(data, columns = ['count', 'mean', 'std', 'min', '25%', '50%', '75%', 'max'])\n",
    "#df2['nova_coluna'] = 'NaN'\n",
    "df2['Ed0'] = ['Ed0Gnd','Ed0305','Ed0313','Ed0320','Ed0340','Ed0380','Ed0395','Ed0PAR']\n",
    "#print(df2)"
   ]
  },
  {
   "cell_type": "code",
   "execution_count": 5,
   "metadata": {
    "scrolled": true
   },
   "outputs": [],
   "source": [
    "#obtém os máximos e respectivos horários(horaMax)\n",
    "a = (dados[['Label', 'Ed0Gnd']][dados.Ed0Gnd == dados.Ed0Gnd.max()])\n",
    "b = (dados[['Label', 'Ed0305']][dados.Ed0305 == dados.Ed0305.max()])\n",
    "c = (dados[['Label', 'Ed0313']][dados.Ed0313 == dados.Ed0313.max()])\n",
    "d = (dados[['Label', 'Ed0320']][dados.Ed0320 == dados.Ed0320.max()])\n",
    "e = (dados[['Label', 'Ed0340']][dados.Ed0340 == dados.Ed0340.max()])\n",
    "f = (dados[['Label', 'Ed0380']][dados.Ed0380 == dados.Ed0380.max()])\n",
    "g = (dados[['Label', 'Ed0395']][dados.Ed0395 == dados.Ed0395.max()])\n",
    "h = (dados[['Label', 'Ed0PAR']][dados.Ed0PAR == dados.Ed0PAR.max()])\n",
    "\n",
    "#type(a)"
   ]
  },
  {
   "cell_type": "code",
   "execution_count": 6,
   "metadata": {},
   "outputs": [
    {
     "name": "stdout",
     "output_type": "stream",
     "text": [
      "       Canal             horaMax\n",
      "2838  Ed0Gnd 2020-01-06 15:44:21\n",
      "3460  Ed0305 2020-01-06 19:11:41\n",
      "2702  Ed0313 2020-01-06 14:59:01\n",
      "2702  Ed0320 2020-01-06 14:59:01\n",
      "2702  Ed0340 2020-01-06 14:59:01\n",
      "2702  Ed0380 2020-01-06 14:59:01\n",
      "2704  Ed0395 2020-01-06 14:59:41\n",
      "3192  Ed0PAR 2020-01-06 17:42:21\n"
     ]
    }
   ],
   "source": [
    "#concatena o horaMax\n",
    "canais = np.array(['Ed0Gnd','Ed0305','Ed0313','Ed0320','Ed0340','Ed0380','Ed0395','Ed0PAR'])\n",
    "horaMax = pd.concat([a['Label'], b['Label'], c['Label'], d['Label'], e['Label'], f['Label'], g['Label'], h['Label']])\n",
    "dataset = pd.DataFrame(data = {'Canal':canais, 'horaMax':horaMax})\n",
    "print(dataset)"
   ]
  },
  {
   "cell_type": "code",
   "execution_count": 7,
   "metadata": {},
   "outputs": [
    {
     "name": "stdout",
     "output_type": "stream",
     "text": [
      "    count       mean        std       min       25%       50%        75%  \\\n",
      "0  4319.0   2.143340   2.220579  0.000039  0.000044  0.000048   4.405050   \n",
      "1  4319.0   2.366812   1.439634  0.001884  1.874647  2.123181   2.647303   \n",
      "2  4319.0   4.952980   3.499040  0.000040  2.852367  3.766019   6.105589   \n",
      "3  4319.0   8.202170   5.704633  0.000533  5.087878  6.066316   9.811691   \n",
      "4  4319.0  11.797413  11.653782  0.001559  3.997409  5.473549  19.357865   \n",
      "5  4319.0  15.566234  17.388835  0.010562  2.950017  5.807789  28.434180   \n",
      "6  4319.0  15.839829  18.918314  0.000212  2.361434  3.497157  30.552360   \n",
      "7  4319.0   3.022972   2.669122  0.003991  1.026581  2.223126   4.063308   \n",
      "\n",
      "         max     Ed0   Canal             horaMax  \n",
      "0   5.025050  Ed0Gnd  Ed0Gnd 2020-01-06 15:44:21  \n",
      "1   9.981856  Ed0305  Ed0305 2020-01-06 19:11:41  \n",
      "2  13.200840  Ed0313  Ed0313 2020-01-06 14:59:01  \n",
      "3  21.204740  Ed0320  Ed0320 2020-01-06 14:59:01  \n",
      "4  36.986190  Ed0340  Ed0340 2020-01-06 14:59:01  \n",
      "5  52.056870  Ed0380  Ed0380 2020-01-06 14:59:01  \n",
      "6  55.078570  Ed0395  Ed0395 2020-01-06 14:59:41  \n",
      "7   9.990666  Ed0PAR  Ed0PAR 2020-01-06 17:42:21  \n"
     ]
    }
   ],
   "source": [
    "#Mescla as tabelas\n",
    "exportar = pd.merge(df2,dataset, how='left', left_on=['Ed0'], right_on=['Canal'])\n",
    "print(exportar)"
   ]
  },
  {
   "cell_type": "code",
   "execution_count": 8,
   "metadata": {},
   "outputs": [],
   "source": [
    "#exporta o arquivo tratado\n",
    "exportar.to_csv (r'/home/william/Desktop/analiseDados/exportcsv/dados30.csv', index = False, header=True)"
   ]
  }
 ],
 "metadata": {
  "kernelspec": {
   "display_name": "Python 3",
   "language": "python",
   "name": "python3"
  },
  "language_info": {
   "codemirror_mode": {
    "name": "ipython",
    "version": 2
   },
   "file_extension": ".py",
   "mimetype": "text/x-python",
   "name": "python",
   "nbconvert_exporter": "python",
   "pygments_lexer": "ipython2",
   "version": "2.7.17"
  }
 },
 "nbformat": 4,
 "nbformat_minor": 4
}
