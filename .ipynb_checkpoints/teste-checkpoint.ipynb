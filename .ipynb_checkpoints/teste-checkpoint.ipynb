{
 "cells": [
  {
   "cell_type": "code",
   "execution_count": 1,
   "metadata": {},
   "outputs": [],
   "source": [
    "import pandas as pd\n",
    "import numpy as np\n",
    "# import matplotlib.pyplot as plt\n",
    "# import matplotlib\n",
    "import datetime as dt\n",
    "import csv\n",
    "\n",
    "# %matplotlib inline"
   ]
  },
  {
   "cell_type": "code",
   "execution_count": 2,
   "metadata": {},
   "outputs": [],
   "source": [
    "df = pd.read_csv('2020_02_19_0000.csv', sep=\",\", header=1,encoding=\"ISO-8859-1\")\n"
   ]
  },
  {
   "cell_type": "code",
   "execution_count": 3,
   "metadata": {},
   "outputs": [],
   "source": [
    "dados =  df.iloc[6:,[0,1,2,3,4,5,6,7]]\n"
   ]
  },
  {
   "cell_type": "code",
   "execution_count": 4,
   "metadata": {},
   "outputs": [
    {
     "data": {
      "text/html": [
       "<div>\n",
       "<style scoped>\n",
       "    .dataframe tbody tr th:only-of-type {\n",
       "        vertical-align: middle;\n",
       "    }\n",
       "\n",
       "    .dataframe tbody tr th {\n",
       "        vertical-align: top;\n",
       "    }\n",
       "\n",
       "    .dataframe thead th {\n",
       "        text-align: right;\n",
       "    }\n",
       "</style>\n",
       "<table border=\"1\" class=\"dataframe\">\n",
       "  <thead>\n",
       "    <tr style=\"text-align: right;\">\n",
       "      <th></th>\n",
       "      <th>Label</th>\n",
       "      <th>Ed0Gnd</th>\n",
       "      <th>Ed0305</th>\n",
       "      <th>Ed0313</th>\n",
       "      <th>Ed0320</th>\n",
       "      <th>Ed0340</th>\n",
       "      <th>Ed0380</th>\n",
       "      <th>Ed0395</th>\n",
       "    </tr>\n",
       "  </thead>\n",
       "  <tbody>\n",
       "    <tr>\n",
       "      <th>6</th>\n",
       "      <td>2/19/2020 12:00:24 AM</td>\n",
       "      <td>-7.125E-06</td>\n",
       "      <td>1.373862E-04</td>\n",
       "      <td>3.099662E-05</td>\n",
       "      <td>5.588725E-05</td>\n",
       "      <td>6.626497E-05</td>\n",
       "      <td>1.269032E-04</td>\n",
       "      <td>4.907166E-05</td>\n",
       "    </tr>\n",
       "    <tr>\n",
       "      <th>7</th>\n",
       "      <td>2/19/2020 12:00:44 AM</td>\n",
       "      <td>-6.65E-06</td>\n",
       "      <td>1.400219E-04</td>\n",
       "      <td>2.619038E-05</td>\n",
       "      <td>5.415678E-05</td>\n",
       "      <td>6.982882E-05</td>\n",
       "      <td>1.19627E-04</td>\n",
       "      <td>5.438134E-05</td>\n",
       "    </tr>\n",
       "    <tr>\n",
       "      <th>8</th>\n",
       "      <td>2/19/2020 12:01:04 AM</td>\n",
       "      <td>-7.25E-06</td>\n",
       "      <td>1.343527E-04</td>\n",
       "      <td>2.810055E-05</td>\n",
       "      <td>5.480016E-05</td>\n",
       "      <td>6.927498E-05</td>\n",
       "      <td>1.246814E-04</td>\n",
       "      <td>5.481443E-05</td>\n",
       "    </tr>\n",
       "    <tr>\n",
       "      <th>9</th>\n",
       "      <td>2/19/2020 12:01:24 AM</td>\n",
       "      <td>-0.0000077</td>\n",
       "      <td>1.330099E-04</td>\n",
       "      <td>2.843946E-05</td>\n",
       "      <td>5.644189E-05</td>\n",
       "      <td>7.404284E-05</td>\n",
       "      <td>1.27903E-04</td>\n",
       "      <td>5.107253E-05</td>\n",
       "    </tr>\n",
       "    <tr>\n",
       "      <th>10</th>\n",
       "      <td>2/19/2020 12:01:44 AM</td>\n",
       "      <td>-7.65E-06</td>\n",
       "      <td>1.408673E-04</td>\n",
       "      <td>3.814437E-05</td>\n",
       "      <td>5.309187E-05</td>\n",
       "      <td>6.566296E-05</td>\n",
       "      <td>1.294026E-04</td>\n",
       "      <td>4.949608E-05</td>\n",
       "    </tr>\n",
       "    <tr>\n",
       "      <th>...</th>\n",
       "      <td>...</td>\n",
       "      <td>...</td>\n",
       "      <td>...</td>\n",
       "      <td>...</td>\n",
       "      <td>...</td>\n",
       "      <td>...</td>\n",
       "      <td>...</td>\n",
       "      <td>...</td>\n",
       "    </tr>\n",
       "    <tr>\n",
       "      <th>4320</th>\n",
       "      <td>2/19/2020 11:58:24 PM</td>\n",
       "      <td>-7.45E-06</td>\n",
       "      <td>1.382316E-04</td>\n",
       "      <td>1.035443E-05</td>\n",
       "      <td>5.517731E-05</td>\n",
       "      <td>7.616189E-05</td>\n",
       "      <td>8.219091E-05</td>\n",
       "      <td>3.932712E-05</td>\n",
       "    </tr>\n",
       "    <tr>\n",
       "      <th>4321</th>\n",
       "      <td>2/19/2020 11:58:44 PM</td>\n",
       "      <td>-0.0000097</td>\n",
       "      <td>1.287331E-04</td>\n",
       "      <td>1.737894E-05</td>\n",
       "      <td>5.502201E-05</td>\n",
       "      <td>6.835994E-05</td>\n",
       "      <td>8.785632E-05</td>\n",
       "      <td>3.466706E-05</td>\n",
       "    </tr>\n",
       "    <tr>\n",
       "      <th>4322</th>\n",
       "      <td>2/19/2020 11:59:04 PM</td>\n",
       "      <td>-9.45E-06</td>\n",
       "      <td>1.30424E-04</td>\n",
       "      <td>1.630062E-05</td>\n",
       "      <td>5.191603E-05</td>\n",
       "      <td>6.756529E-05</td>\n",
       "      <td>7.669214E-05</td>\n",
       "      <td>3.269217E-05</td>\n",
       "    </tr>\n",
       "    <tr>\n",
       "      <th>4323</th>\n",
       "      <td>2/19/2020 11:59:24 PM</td>\n",
       "      <td>-9.85E-06</td>\n",
       "      <td>1.194336E-04</td>\n",
       "      <td>2.280137E-05</td>\n",
       "      <td>5.493327E-05</td>\n",
       "      <td>6.761345E-05</td>\n",
       "      <td>8.546796E-05</td>\n",
       "      <td>3.672858E-05</td>\n",
       "    </tr>\n",
       "    <tr>\n",
       "      <th>4324</th>\n",
       "      <td>2/19/2020 11:59:44 PM</td>\n",
       "      <td>-0.0000084</td>\n",
       "      <td>1.175935E-04</td>\n",
       "      <td>2.082957E-05</td>\n",
       "      <td>5.047397E-05</td>\n",
       "      <td>6.804689E-05</td>\n",
       "      <td>8.446819E-05</td>\n",
       "      <td>3.503086E-05</td>\n",
       "    </tr>\n",
       "  </tbody>\n",
       "</table>\n",
       "<p>4319 rows × 8 columns</p>\n",
       "</div>"
      ],
      "text/plain": [
       "                      Label      Ed0Gnd        Ed0305        Ed0313  \\\n",
       "6     2/19/2020 12:00:24 AM  -7.125E-06  1.373862E-04  3.099662E-05   \n",
       "7     2/19/2020 12:00:44 AM   -6.65E-06  1.400219E-04  2.619038E-05   \n",
       "8     2/19/2020 12:01:04 AM   -7.25E-06  1.343527E-04  2.810055E-05   \n",
       "9     2/19/2020 12:01:24 AM  -0.0000077  1.330099E-04  2.843946E-05   \n",
       "10    2/19/2020 12:01:44 AM   -7.65E-06  1.408673E-04  3.814437E-05   \n",
       "...                     ...         ...           ...           ...   \n",
       "4320  2/19/2020 11:58:24 PM   -7.45E-06  1.382316E-04  1.035443E-05   \n",
       "4321  2/19/2020 11:58:44 PM  -0.0000097  1.287331E-04  1.737894E-05   \n",
       "4322  2/19/2020 11:59:04 PM   -9.45E-06   1.30424E-04  1.630062E-05   \n",
       "4323  2/19/2020 11:59:24 PM   -9.85E-06  1.194336E-04  2.280137E-05   \n",
       "4324  2/19/2020 11:59:44 PM  -0.0000084  1.175935E-04  2.082957E-05   \n",
       "\n",
       "            Ed0320        Ed0340        Ed0380        Ed0395  \n",
       "6     5.588725E-05  6.626497E-05  1.269032E-04  4.907166E-05  \n",
       "7     5.415678E-05  6.982882E-05   1.19627E-04  5.438134E-05  \n",
       "8     5.480016E-05  6.927498E-05  1.246814E-04  5.481443E-05  \n",
       "9     5.644189E-05  7.404284E-05   1.27903E-04  5.107253E-05  \n",
       "10    5.309187E-05  6.566296E-05  1.294026E-04  4.949608E-05  \n",
       "...            ...           ...           ...           ...  \n",
       "4320  5.517731E-05  7.616189E-05  8.219091E-05  3.932712E-05  \n",
       "4321  5.502201E-05  6.835994E-05  8.785632E-05  3.466706E-05  \n",
       "4322  5.191603E-05  6.756529E-05  7.669214E-05  3.269217E-05  \n",
       "4323  5.493327E-05  6.761345E-05  8.546796E-05  3.672858E-05  \n",
       "4324  5.047397E-05  6.804689E-05  8.446819E-05  3.503086E-05  \n",
       "\n",
       "[4319 rows x 8 columns]"
      ]
     },
     "execution_count": 4,
     "metadata": {},
     "output_type": "execute_result"
    }
   ],
   "source": [
    "dados"
   ]
  },
  {
   "cell_type": "code",
   "execution_count": 5,
   "metadata": {},
   "outputs": [],
   "source": [
    "eixoX = df.iloc[6:,[0]]"
   ]
  },
  {
   "cell_type": "code",
   "execution_count": 6,
   "metadata": {},
   "outputs": [],
   "source": [
    "eixoY =  df.iloc[6:,[1,2,3,4,5,6,7]]\n"
   ]
  },
  {
   "cell_type": "code",
   "execution_count": 7,
   "metadata": {},
   "outputs": [],
   "source": [
    "eixoY = eixoY.astype('float64')"
   ]
  },
  {
   "cell_type": "code",
   "execution_count": 8,
   "metadata": {},
   "outputs": [],
   "source": [
    "#eixoY.info()"
   ]
  },
  {
   "cell_type": "code",
   "execution_count": 9,
   "metadata": {},
   "outputs": [],
   "source": [
    "eixoY = eixoY.astype('float64')"
   ]
  },
  {
   "cell_type": "code",
   "execution_count": 10,
   "metadata": {},
   "outputs": [],
   "source": [
    "eixoX = eixoX.apply(pd.to_datetime)"
   ]
  },
  {
   "cell_type": "code",
   "execution_count": 11,
   "metadata": {},
   "outputs": [],
   "source": [
    "Ed0350 = df.iloc[6:, [0,2]]"
   ]
  },
  {
   "cell_type": "code",
   "execution_count": 12,
   "metadata": {},
   "outputs": [],
   "source": [
    "#eixoY"
   ]
  },
  {
   "cell_type": "code",
   "execution_count": 13,
   "metadata": {},
   "outputs": [],
   "source": [
    "\n",
    "#dadosFormat = pd.DataFrame(index=[Label], columns=list(eixoY))"
   ]
  },
  {
   "cell_type": "code",
   "execution_count": 14,
   "metadata": {},
   "outputs": [
    {
     "data": {
      "text/html": [
       "<div>\n",
       "<style scoped>\n",
       "    .dataframe tbody tr th:only-of-type {\n",
       "        vertical-align: middle;\n",
       "    }\n",
       "\n",
       "    .dataframe tbody tr th {\n",
       "        vertical-align: top;\n",
       "    }\n",
       "\n",
       "    .dataframe thead th {\n",
       "        text-align: right;\n",
       "    }\n",
       "</style>\n",
       "<table border=\"1\" class=\"dataframe\">\n",
       "  <thead>\n",
       "    <tr style=\"text-align: right;\">\n",
       "      <th></th>\n",
       "      <th>Label</th>\n",
       "      <th>Ed0Gnd</th>\n",
       "    </tr>\n",
       "  </thead>\n",
       "  <tbody>\n",
       "    <tr>\n",
       "      <th>2516</th>\n",
       "      <td>2/19/2020 1:57:04 PM</td>\n",
       "      <td>9.95E-06</td>\n",
       "    </tr>\n",
       "    <tr>\n",
       "      <th>3102</th>\n",
       "      <td>2/19/2020 5:12:24 PM</td>\n",
       "      <td>9.95E-06</td>\n",
       "    </tr>\n",
       "  </tbody>\n",
       "</table>\n",
       "</div>"
      ],
      "text/plain": [
       "                     Label    Ed0Gnd\n",
       "2516  2/19/2020 1:57:04 PM  9.95E-06\n",
       "3102  2/19/2020 5:12:24 PM  9.95E-06"
      ]
     },
     "execution_count": 14,
     "metadata": {},
     "output_type": "execute_result"
    }
   ],
   "source": [
    "a = (dados[['Label', 'Ed0Gnd']][dados.Ed0Gnd == dados.Ed0Gnd.max()])\n",
    "#b = (dados[[dados.Label, eixoY([''])]][eixoY == eixoY.max()])\n",
    "#b = (dados[['Label']][dados == dados.describe()])\n",
    "\n",
    "a\n"
   ]
  },
  {
   "cell_type": "code",
   "execution_count": 15,
   "metadata": {},
   "outputs": [],
   "source": [
    "# dadosFormat = dadosFormat.astype('float64')"
   ]
  },
  {
   "cell_type": "code",
   "execution_count": 16,
   "metadata": {},
   "outputs": [],
   "source": [
    "# dadosFormat.head()"
   ]
  },
  {
   "cell_type": "code",
   "execution_count": 17,
   "metadata": {},
   "outputs": [],
   "source": [
    "#dados2 = dados.Ed0Gnd.astype('float64')"
   ]
  },
  {
   "cell_type": "code",
   "execution_count": 18,
   "metadata": {},
   "outputs": [],
   "source": [
    "#dados2"
   ]
  },
  {
   "cell_type": "code",
   "execution_count": 19,
   "metadata": {},
   "outputs": [],
   "source": [
    "a.to_csv('dadosMaximos.csv')"
   ]
  },
  {
   "cell_type": "code",
   "execution_count": 20,
   "metadata": {},
   "outputs": [],
   "source": [
    "label_series = pd.to_datetime(dados['Label'])"
   ]
  },
  {
   "cell_type": "code",
   "execution_count": 21,
   "metadata": {},
   "outputs": [],
   "source": [
    "label_index = pd.DatetimeIndex(label_series.values)"
   ]
  },
  {
   "cell_type": "code",
   "execution_count": 22,
   "metadata": {},
   "outputs": [],
   "source": [
    "#dados = dados.set_index(pd.DatetimeIndex(Label))"
   ]
  },
  {
   "cell_type": "code",
   "execution_count": 23,
   "metadata": {},
   "outputs": [
    {
     "data": {
      "text/plain": [
       "DatetimeIndex(['2020-02-19 00:00:24', '2020-02-19 00:00:44',\n",
       "               '2020-02-19 00:01:04', '2020-02-19 00:01:24',\n",
       "               '2020-02-19 00:01:44', '2020-02-19 00:02:04',\n",
       "               '2020-02-19 00:02:24', '2020-02-19 00:02:44',\n",
       "               '2020-02-19 00:03:04', '2020-02-19 00:03:24',\n",
       "               ...\n",
       "               '2020-02-19 23:56:44', '2020-02-19 23:57:04',\n",
       "               '2020-02-19 23:57:24', '2020-02-19 23:57:44',\n",
       "               '2020-02-19 23:58:04', '2020-02-19 23:58:24',\n",
       "               '2020-02-19 23:58:44', '2020-02-19 23:59:04',\n",
       "               '2020-02-19 23:59:24', '2020-02-19 23:59:44'],\n",
       "              dtype='datetime64[ns]', length=4319, freq=None)"
      ]
     },
     "execution_count": 23,
     "metadata": {},
     "output_type": "execute_result"
    }
   ],
   "source": [
    "label_index"
   ]
  },
  {
   "cell_type": "code",
   "execution_count": 24,
   "metadata": {},
   "outputs": [],
   "source": [
    "dados2 = dados.set_index(label_index)"
   ]
  },
  {
   "cell_type": "code",
   "execution_count": 25,
   "metadata": {},
   "outputs": [],
   "source": [
    "dados2.drop('Label', axis=1, inplace=True)"
   ]
  },
  {
   "cell_type": "code",
   "execution_count": 26,
   "metadata": {},
   "outputs": [],
   "source": [
    "dados2 = dados2.astype('float64')"
   ]
  },
  {
   "cell_type": "code",
   "execution_count": 27,
   "metadata": {},
   "outputs": [
    {
     "data": {
      "text/html": [
       "<div>\n",
       "<style scoped>\n",
       "    .dataframe tbody tr th:only-of-type {\n",
       "        vertical-align: middle;\n",
       "    }\n",
       "\n",
       "    .dataframe tbody tr th {\n",
       "        vertical-align: top;\n",
       "    }\n",
       "\n",
       "    .dataframe thead th {\n",
       "        text-align: right;\n",
       "    }\n",
       "</style>\n",
       "<table border=\"1\" class=\"dataframe\">\n",
       "  <thead>\n",
       "    <tr style=\"text-align: right;\">\n",
       "      <th></th>\n",
       "      <th>Ed0Gnd</th>\n",
       "      <th>Ed0305</th>\n",
       "      <th>Ed0313</th>\n",
       "      <th>Ed0320</th>\n",
       "      <th>Ed0340</th>\n",
       "      <th>Ed0380</th>\n",
       "      <th>Ed0395</th>\n",
       "    </tr>\n",
       "  </thead>\n",
       "  <tbody>\n",
       "    <tr>\n",
       "      <th>2020-02-19 16:36:44</th>\n",
       "      <td>0.000028</td>\n",
       "      <td>1.802644</td>\n",
       "      <td>5.043318</td>\n",
       "      <td>7.669861</td>\n",
       "      <td>12.49186</td>\n",
       "      <td>14.65578</td>\n",
       "      <td>15.08206</td>\n",
       "    </tr>\n",
       "  </tbody>\n",
       "</table>\n",
       "</div>"
      ],
      "text/plain": [
       "                       Ed0Gnd    Ed0305    Ed0313    Ed0320    Ed0340  \\\n",
       "2020-02-19 16:36:44  0.000028  1.802644  5.043318  7.669861  12.49186   \n",
       "\n",
       "                       Ed0380    Ed0395  \n",
       "2020-02-19 16:36:44  14.65578  15.08206  "
      ]
     },
     "execution_count": 27,
     "metadata": {},
     "output_type": "execute_result"
    }
   ],
   "source": [
    "dados2[(dados2.Ed0Gnd == dados2.Ed0Gnd.max())]"
   ]
  },
  {
   "cell_type": "code",
   "execution_count": 28,
   "metadata": {},
   "outputs": [],
   "source": [
    "#dados2.groupby([dados2.index], sort=True)[\"Ed0313\"].max()"
   ]
  },
  {
   "cell_type": "code",
   "execution_count": 29,
   "metadata": {},
   "outputs": [
    {
     "data": {
      "text/html": [
       "<div>\n",
       "<style scoped>\n",
       "    .dataframe tbody tr th:only-of-type {\n",
       "        vertical-align: middle;\n",
       "    }\n",
       "\n",
       "    .dataframe tbody tr th {\n",
       "        vertical-align: top;\n",
       "    }\n",
       "\n",
       "    .dataframe thead th {\n",
       "        text-align: right;\n",
       "    }\n",
       "</style>\n",
       "<table border=\"1\" class=\"dataframe\">\n",
       "  <thead>\n",
       "    <tr style=\"text-align: right;\">\n",
       "      <th></th>\n",
       "      <th>Ed0Gnd</th>\n",
       "      <th>Ed0305</th>\n",
       "      <th>Ed0313</th>\n",
       "      <th>Ed0320</th>\n",
       "      <th>Ed0340</th>\n",
       "      <th>Ed0380</th>\n",
       "      <th>Ed0395</th>\n",
       "    </tr>\n",
       "  </thead>\n",
       "  <tbody>\n",
       "    <tr>\n",
       "      <th>count</th>\n",
       "      <td>4.319000e+03</td>\n",
       "      <td>4319.000000</td>\n",
       "      <td>4319.000000</td>\n",
       "      <td>4319.000000</td>\n",
       "      <td>4319.000000</td>\n",
       "      <td>4319.000000</td>\n",
       "      <td>4319.000000</td>\n",
       "    </tr>\n",
       "    <tr>\n",
       "      <th>mean</th>\n",
       "      <td>-1.642255e+01</td>\n",
       "      <td>1.786869</td>\n",
       "      <td>5.486876</td>\n",
       "      <td>8.809154</td>\n",
       "      <td>15.816356</td>\n",
       "      <td>21.030778</td>\n",
       "      <td>22.118958</td>\n",
       "    </tr>\n",
       "    <tr>\n",
       "      <th>std</th>\n",
       "      <td>1.270440e+02</td>\n",
       "      <td>2.934964</td>\n",
       "      <td>7.878192</td>\n",
       "      <td>12.066685</td>\n",
       "      <td>20.847267</td>\n",
       "      <td>27.634477</td>\n",
       "      <td>29.104336</td>\n",
       "    </tr>\n",
       "    <tr>\n",
       "      <th>min</th>\n",
       "      <td>-9.990000e+02</td>\n",
       "      <td>0.000086</td>\n",
       "      <td>0.000004</td>\n",
       "      <td>0.000037</td>\n",
       "      <td>0.000043</td>\n",
       "      <td>0.000032</td>\n",
       "      <td>0.000016</td>\n",
       "    </tr>\n",
       "    <tr>\n",
       "      <th>25%</th>\n",
       "      <td>-9.650000e-06</td>\n",
       "      <td>0.000141</td>\n",
       "      <td>0.000027</td>\n",
       "      <td>0.000056</td>\n",
       "      <td>0.000071</td>\n",
       "      <td>0.000093</td>\n",
       "      <td>0.000042</td>\n",
       "    </tr>\n",
       "    <tr>\n",
       "      <th>50%</th>\n",
       "      <td>-7.500000e-06</td>\n",
       "      <td>0.006304</td>\n",
       "      <td>0.081971</td>\n",
       "      <td>0.339180</td>\n",
       "      <td>1.341489</td>\n",
       "      <td>1.555646</td>\n",
       "      <td>1.529524</td>\n",
       "    </tr>\n",
       "    <tr>\n",
       "      <th>75%</th>\n",
       "      <td>5.000000e-07</td>\n",
       "      <td>2.568159</td>\n",
       "      <td>9.664127</td>\n",
       "      <td>16.340160</td>\n",
       "      <td>30.227045</td>\n",
       "      <td>41.863770</td>\n",
       "      <td>44.482740</td>\n",
       "    </tr>\n",
       "    <tr>\n",
       "      <th>max</th>\n",
       "      <td>2.755000e-05</td>\n",
       "      <td>10.101090</td>\n",
       "      <td>25.448950</td>\n",
       "      <td>38.137190</td>\n",
       "      <td>65.036770</td>\n",
       "      <td>85.910210</td>\n",
       "      <td>91.292480</td>\n",
       "    </tr>\n",
       "  </tbody>\n",
       "</table>\n",
       "</div>"
      ],
      "text/plain": [
       "             Ed0Gnd       Ed0305       Ed0313       Ed0320       Ed0340  \\\n",
       "count  4.319000e+03  4319.000000  4319.000000  4319.000000  4319.000000   \n",
       "mean  -1.642255e+01     1.786869     5.486876     8.809154    15.816356   \n",
       "std    1.270440e+02     2.934964     7.878192    12.066685    20.847267   \n",
       "min   -9.990000e+02     0.000086     0.000004     0.000037     0.000043   \n",
       "25%   -9.650000e-06     0.000141     0.000027     0.000056     0.000071   \n",
       "50%   -7.500000e-06     0.006304     0.081971     0.339180     1.341489   \n",
       "75%    5.000000e-07     2.568159     9.664127    16.340160    30.227045   \n",
       "max    2.755000e-05    10.101090    25.448950    38.137190    65.036770   \n",
       "\n",
       "            Ed0380       Ed0395  \n",
       "count  4319.000000  4319.000000  \n",
       "mean     21.030778    22.118958  \n",
       "std      27.634477    29.104336  \n",
       "min       0.000032     0.000016  \n",
       "25%       0.000093     0.000042  \n",
       "50%       1.555646     1.529524  \n",
       "75%      41.863770    44.482740  \n",
       "max      85.910210    91.292480  "
      ]
     },
     "execution_count": 29,
     "metadata": {},
     "output_type": "execute_result"
    }
   ],
   "source": [
    "dados2.describe()"
   ]
  },
  {
   "cell_type": "markdown",
   "metadata": {},
   "source": [
    "## Separando os canais"
   ]
  },
  {
   "cell_type": "code",
   "execution_count": 30,
   "metadata": {},
   "outputs": [],
   "source": [
    "canal1 = dados2.iloc[:,[0]]\n",
    "canal2 = dados2.iloc[:,[1]]\n",
    "canal3 = dados2.iloc[:,[2]]\n",
    "canal4 = dados2.iloc[:,[3]]\n",
    "canal5 = dados2.iloc[:,[4]]\n",
    "canal6 = dados2.iloc[:,[5]]\n",
    "canal7 = dados2.iloc[:,[6]]"
   ]
  },
  {
   "cell_type": "markdown",
   "metadata": {},
   "source": [
    "## Pegando hora e máximo de cada canal"
   ]
  },
  {
   "cell_type": "code",
   "execution_count": 31,
   "metadata": {},
   "outputs": [],
   "source": [
    "maxCanal1 = canal1[(canal1.Ed0Gnd == canal1.Ed0Gnd.max())]\n",
    "maxCanal2 = canal2[(canal2.Ed0305 == canal2.Ed0305.max())]\n",
    "maxCanal3 = canal3[(canal3.Ed0313 == canal3.Ed0313.max())]\n",
    "maxCanal4 = canal4[(canal4.Ed0320 == canal4.Ed0320.max())]\n",
    "maxCanal5 = canal5[(canal5.Ed0340 == canal5.Ed0340.max())]\n",
    "maxCanal6 = canal6[(canal6.Ed0380 == canal6.Ed0380.max())]\n",
    "maxCanal7 = canal7[(canal7.Ed0395 == canal7.Ed0395.max())]\n",
    "# dados3[(dados3.Ed0313 == dados3.Ed0313.min())]"
   ]
  },
  {
   "cell_type": "code",
   "execution_count": 41,
   "metadata": {},
   "outputs": [
    {
     "data": {
      "text/html": [
       "<div>\n",
       "<style scoped>\n",
       "    .dataframe tbody tr th:only-of-type {\n",
       "        vertical-align: middle;\n",
       "    }\n",
       "\n",
       "    .dataframe tbody tr th {\n",
       "        vertical-align: top;\n",
       "    }\n",
       "\n",
       "    .dataframe thead th {\n",
       "        text-align: right;\n",
       "    }\n",
       "</style>\n",
       "<table border=\"1\" class=\"dataframe\">\n",
       "  <thead>\n",
       "    <tr style=\"text-align: right;\">\n",
       "      <th></th>\n",
       "      <th>Ed0Gnd</th>\n",
       "    </tr>\n",
       "  </thead>\n",
       "  <tbody>\n",
       "    <tr>\n",
       "      <th>2020-02-19 16:36:44</th>\n",
       "      <td>0.000028</td>\n",
       "    </tr>\n",
       "  </tbody>\n",
       "</table>\n",
       "</div>"
      ],
      "text/plain": [
       "                       Ed0Gnd\n",
       "2020-02-19 16:36:44  0.000028"
      ]
     },
     "execution_count": 41,
     "metadata": {},
     "output_type": "execute_result"
    }
   ],
   "source": [
    "maxCanal1"
   ]
  },
  {
   "cell_type": "code",
   "execution_count": 33,
   "metadata": {},
   "outputs": [
    {
     "data": {
      "text/html": [
       "<div>\n",
       "<style scoped>\n",
       "    .dataframe tbody tr th:only-of-type {\n",
       "        vertical-align: middle;\n",
       "    }\n",
       "\n",
       "    .dataframe tbody tr th {\n",
       "        vertical-align: top;\n",
       "    }\n",
       "\n",
       "    .dataframe thead th {\n",
       "        text-align: right;\n",
       "    }\n",
       "</style>\n",
       "<table border=\"1\" class=\"dataframe\">\n",
       "  <thead>\n",
       "    <tr style=\"text-align: right;\">\n",
       "      <th></th>\n",
       "      <th>Ed0305</th>\n",
       "    </tr>\n",
       "  </thead>\n",
       "  <tbody>\n",
       "    <tr>\n",
       "      <th>2020-02-19 15:01:44</th>\n",
       "      <td>10.10109</td>\n",
       "    </tr>\n",
       "  </tbody>\n",
       "</table>\n",
       "</div>"
      ],
      "text/plain": [
       "                       Ed0305\n",
       "2020-02-19 15:01:44  10.10109"
      ]
     },
     "execution_count": 33,
     "metadata": {},
     "output_type": "execute_result"
    }
   ],
   "source": [
    "maxCanal2"
   ]
  },
  {
   "cell_type": "code",
   "execution_count": 34,
   "metadata": {},
   "outputs": [
    {
     "data": {
      "text/html": [
       "<div>\n",
       "<style scoped>\n",
       "    .dataframe tbody tr th:only-of-type {\n",
       "        vertical-align: middle;\n",
       "    }\n",
       "\n",
       "    .dataframe tbody tr th {\n",
       "        vertical-align: top;\n",
       "    }\n",
       "\n",
       "    .dataframe thead th {\n",
       "        text-align: right;\n",
       "    }\n",
       "</style>\n",
       "<table border=\"1\" class=\"dataframe\">\n",
       "  <thead>\n",
       "    <tr style=\"text-align: right;\">\n",
       "      <th></th>\n",
       "      <th>Ed0313</th>\n",
       "    </tr>\n",
       "  </thead>\n",
       "  <tbody>\n",
       "    <tr>\n",
       "      <th>2020-02-19 15:01:44</th>\n",
       "      <td>25.44895</td>\n",
       "    </tr>\n",
       "  </tbody>\n",
       "</table>\n",
       "</div>"
      ],
      "text/plain": [
       "                       Ed0313\n",
       "2020-02-19 15:01:44  25.44895"
      ]
     },
     "execution_count": 34,
     "metadata": {},
     "output_type": "execute_result"
    }
   ],
   "source": [
    "maxCanal3"
   ]
  },
  {
   "cell_type": "code",
   "execution_count": 35,
   "metadata": {},
   "outputs": [
    {
     "data": {
      "text/html": [
       "<div>\n",
       "<style scoped>\n",
       "    .dataframe tbody tr th:only-of-type {\n",
       "        vertical-align: middle;\n",
       "    }\n",
       "\n",
       "    .dataframe tbody tr th {\n",
       "        vertical-align: top;\n",
       "    }\n",
       "\n",
       "    .dataframe thead th {\n",
       "        text-align: right;\n",
       "    }\n",
       "</style>\n",
       "<table border=\"1\" class=\"dataframe\">\n",
       "  <thead>\n",
       "    <tr style=\"text-align: right;\">\n",
       "      <th></th>\n",
       "      <th>Ed0320</th>\n",
       "    </tr>\n",
       "  </thead>\n",
       "  <tbody>\n",
       "    <tr>\n",
       "      <th>2020-02-19 15:01:44</th>\n",
       "      <td>38.13719</td>\n",
       "    </tr>\n",
       "  </tbody>\n",
       "</table>\n",
       "</div>"
      ],
      "text/plain": [
       "                       Ed0320\n",
       "2020-02-19 15:01:44  38.13719"
      ]
     },
     "execution_count": 35,
     "metadata": {},
     "output_type": "execute_result"
    }
   ],
   "source": [
    "maxCanal4"
   ]
  },
  {
   "cell_type": "code",
   "execution_count": 36,
   "metadata": {},
   "outputs": [
    {
     "data": {
      "text/html": [
       "<div>\n",
       "<style scoped>\n",
       "    .dataframe tbody tr th:only-of-type {\n",
       "        vertical-align: middle;\n",
       "    }\n",
       "\n",
       "    .dataframe tbody tr th {\n",
       "        vertical-align: top;\n",
       "    }\n",
       "\n",
       "    .dataframe thead th {\n",
       "        text-align: right;\n",
       "    }\n",
       "</style>\n",
       "<table border=\"1\" class=\"dataframe\">\n",
       "  <thead>\n",
       "    <tr style=\"text-align: right;\">\n",
       "      <th></th>\n",
       "      <th>Ed0340</th>\n",
       "    </tr>\n",
       "  </thead>\n",
       "  <tbody>\n",
       "    <tr>\n",
       "      <th>2020-02-19 15:54:44</th>\n",
       "      <td>65.03677</td>\n",
       "    </tr>\n",
       "  </tbody>\n",
       "</table>\n",
       "</div>"
      ],
      "text/plain": [
       "                       Ed0340\n",
       "2020-02-19 15:54:44  65.03677"
      ]
     },
     "execution_count": 36,
     "metadata": {},
     "output_type": "execute_result"
    }
   ],
   "source": [
    "maxCanal5"
   ]
  },
  {
   "cell_type": "code",
   "execution_count": 37,
   "metadata": {},
   "outputs": [
    {
     "data": {
      "text/html": [
       "<div>\n",
       "<style scoped>\n",
       "    .dataframe tbody tr th:only-of-type {\n",
       "        vertical-align: middle;\n",
       "    }\n",
       "\n",
       "    .dataframe tbody tr th {\n",
       "        vertical-align: top;\n",
       "    }\n",
       "\n",
       "    .dataframe thead th {\n",
       "        text-align: right;\n",
       "    }\n",
       "</style>\n",
       "<table border=\"1\" class=\"dataframe\">\n",
       "  <thead>\n",
       "    <tr style=\"text-align: right;\">\n",
       "      <th></th>\n",
       "      <th>Ed0380</th>\n",
       "    </tr>\n",
       "  </thead>\n",
       "  <tbody>\n",
       "    <tr>\n",
       "      <th>2020-02-19 15:54:44</th>\n",
       "      <td>85.91021</td>\n",
       "    </tr>\n",
       "  </tbody>\n",
       "</table>\n",
       "</div>"
      ],
      "text/plain": [
       "                       Ed0380\n",
       "2020-02-19 15:54:44  85.91021"
      ]
     },
     "execution_count": 37,
     "metadata": {},
     "output_type": "execute_result"
    }
   ],
   "source": [
    "maxCanal6"
   ]
  },
  {
   "cell_type": "code",
   "execution_count": 38,
   "metadata": {},
   "outputs": [
    {
     "data": {
      "text/html": [
       "<div>\n",
       "<style scoped>\n",
       "    .dataframe tbody tr th:only-of-type {\n",
       "        vertical-align: middle;\n",
       "    }\n",
       "\n",
       "    .dataframe tbody tr th {\n",
       "        vertical-align: top;\n",
       "    }\n",
       "\n",
       "    .dataframe thead th {\n",
       "        text-align: right;\n",
       "    }\n",
       "</style>\n",
       "<table border=\"1\" class=\"dataframe\">\n",
       "  <thead>\n",
       "    <tr style=\"text-align: right;\">\n",
       "      <th></th>\n",
       "      <th>Ed0395</th>\n",
       "    </tr>\n",
       "  </thead>\n",
       "  <tbody>\n",
       "    <tr>\n",
       "      <th>2020-02-19 16:03:24</th>\n",
       "      <td>91.29248</td>\n",
       "    </tr>\n",
       "  </tbody>\n",
       "</table>\n",
       "</div>"
      ],
      "text/plain": [
       "                       Ed0395\n",
       "2020-02-19 16:03:24  91.29248"
      ]
     },
     "execution_count": 38,
     "metadata": {},
     "output_type": "execute_result"
    }
   ],
   "source": [
    "maxCanal7"
   ]
  },
  {
   "cell_type": "code",
   "execution_count": 40,
   "metadata": {},
   "outputs": [
    {
     "data": {
      "text/html": [
       "<div>\n",
       "<style scoped>\n",
       "    .dataframe tbody tr th:only-of-type {\n",
       "        vertical-align: middle;\n",
       "    }\n",
       "\n",
       "    .dataframe tbody tr th {\n",
       "        vertical-align: top;\n",
       "    }\n",
       "\n",
       "    .dataframe thead th {\n",
       "        text-align: right;\n",
       "    }\n",
       "</style>\n",
       "<table border=\"1\" class=\"dataframe\">\n",
       "  <thead>\n",
       "    <tr style=\"text-align: right;\">\n",
       "      <th></th>\n",
       "      <th>Ed0Gnd</th>\n",
       "      <th>Ed0305</th>\n",
       "      <th>Ed0313</th>\n",
       "      <th>Ed0320</th>\n",
       "      <th>Ed0340</th>\n",
       "      <th>Ed0380</th>\n",
       "      <th>Ed0395</th>\n",
       "    </tr>\n",
       "  </thead>\n",
       "  <tbody>\n",
       "    <tr>\n",
       "      <th>count</th>\n",
       "      <td>4.319000e+03</td>\n",
       "      <td>4319.000000</td>\n",
       "      <td>4319.000000</td>\n",
       "      <td>4319.000000</td>\n",
       "      <td>4319.000000</td>\n",
       "      <td>4319.000000</td>\n",
       "      <td>4319.000000</td>\n",
       "    </tr>\n",
       "    <tr>\n",
       "      <th>mean</th>\n",
       "      <td>-1.642255e+01</td>\n",
       "      <td>1.786869</td>\n",
       "      <td>5.486876</td>\n",
       "      <td>8.809154</td>\n",
       "      <td>15.816356</td>\n",
       "      <td>21.030778</td>\n",
       "      <td>22.118958</td>\n",
       "    </tr>\n",
       "    <tr>\n",
       "      <th>std</th>\n",
       "      <td>1.270440e+02</td>\n",
       "      <td>2.934964</td>\n",
       "      <td>7.878192</td>\n",
       "      <td>12.066685</td>\n",
       "      <td>20.847267</td>\n",
       "      <td>27.634477</td>\n",
       "      <td>29.104336</td>\n",
       "    </tr>\n",
       "    <tr>\n",
       "      <th>min</th>\n",
       "      <td>-9.990000e+02</td>\n",
       "      <td>0.000086</td>\n",
       "      <td>0.000004</td>\n",
       "      <td>0.000037</td>\n",
       "      <td>0.000043</td>\n",
       "      <td>0.000032</td>\n",
       "      <td>0.000016</td>\n",
       "    </tr>\n",
       "    <tr>\n",
       "      <th>25%</th>\n",
       "      <td>-9.650000e-06</td>\n",
       "      <td>0.000141</td>\n",
       "      <td>0.000027</td>\n",
       "      <td>0.000056</td>\n",
       "      <td>0.000071</td>\n",
       "      <td>0.000093</td>\n",
       "      <td>0.000042</td>\n",
       "    </tr>\n",
       "    <tr>\n",
       "      <th>50%</th>\n",
       "      <td>-7.500000e-06</td>\n",
       "      <td>0.006304</td>\n",
       "      <td>0.081971</td>\n",
       "      <td>0.339180</td>\n",
       "      <td>1.341489</td>\n",
       "      <td>1.555646</td>\n",
       "      <td>1.529524</td>\n",
       "    </tr>\n",
       "    <tr>\n",
       "      <th>75%</th>\n",
       "      <td>5.000000e-07</td>\n",
       "      <td>2.568159</td>\n",
       "      <td>9.664127</td>\n",
       "      <td>16.340160</td>\n",
       "      <td>30.227045</td>\n",
       "      <td>41.863770</td>\n",
       "      <td>44.482740</td>\n",
       "    </tr>\n",
       "    <tr>\n",
       "      <th>max</th>\n",
       "      <td>2.755000e-05</td>\n",
       "      <td>10.101090</td>\n",
       "      <td>25.448950</td>\n",
       "      <td>38.137190</td>\n",
       "      <td>65.036770</td>\n",
       "      <td>85.910210</td>\n",
       "      <td>91.292480</td>\n",
       "    </tr>\n",
       "  </tbody>\n",
       "</table>\n",
       "</div>"
      ],
      "text/plain": [
       "             Ed0Gnd       Ed0305       Ed0313       Ed0320       Ed0340  \\\n",
       "count  4.319000e+03  4319.000000  4319.000000  4319.000000  4319.000000   \n",
       "mean  -1.642255e+01     1.786869     5.486876     8.809154    15.816356   \n",
       "std    1.270440e+02     2.934964     7.878192    12.066685    20.847267   \n",
       "min   -9.990000e+02     0.000086     0.000004     0.000037     0.000043   \n",
       "25%   -9.650000e-06     0.000141     0.000027     0.000056     0.000071   \n",
       "50%   -7.500000e-06     0.006304     0.081971     0.339180     1.341489   \n",
       "75%    5.000000e-07     2.568159     9.664127    16.340160    30.227045   \n",
       "max    2.755000e-05    10.101090    25.448950    38.137190    65.036770   \n",
       "\n",
       "            Ed0380       Ed0395  \n",
       "count  4319.000000  4319.000000  \n",
       "mean     21.030778    22.118958  \n",
       "std      27.634477    29.104336  \n",
       "min       0.000032     0.000016  \n",
       "25%       0.000093     0.000042  \n",
       "50%       1.555646     1.529524  \n",
       "75%      41.863770    44.482740  \n",
       "max      85.910210    91.292480  "
      ]
     },
     "execution_count": 40,
     "metadata": {},
     "output_type": "execute_result"
    }
   ],
   "source": [
    "dados2.describe()"
   ]
  }
 ],
 "metadata": {
  "kernelspec": {
   "display_name": "Python 3",
   "language": "python",
   "name": "python3"
  },
  "language_info": {
   "codemirror_mode": {
    "name": "ipython",
    "version": 3
   },
   "file_extension": ".py",
   "mimetype": "text/x-python",
   "name": "python",
   "nbconvert_exporter": "python",
   "pygments_lexer": "ipython3",
   "version": "3.6.9"
  }
 },
 "nbformat": 4,
 "nbformat_minor": 2
}
