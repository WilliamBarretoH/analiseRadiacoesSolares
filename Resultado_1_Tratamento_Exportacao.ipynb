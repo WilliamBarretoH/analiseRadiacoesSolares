{
 "cells": [
  {
   "cell_type": "markdown",
   "metadata": {},
   "source": [
    "# Análise para um csv"
   ]
  },
  {
   "cell_type": "markdown",
   "metadata": {},
   "source": [
    "## Importações e leitura do csv"
   ]
  },
  {
   "cell_type": "code",
   "execution_count": 1,
   "metadata": {},
   "outputs": [
    {
     "ename": "ModuleNotFoundError",
     "evalue": "No module named 'pandas'",
     "output_type": "error",
     "traceback": [
      "\u001b[0;31m---------------------------------------------------------------------------\u001b[0m",
      "\u001b[0;31mModuleNotFoundError\u001b[0m                       Traceback (most recent call last)",
      "\u001b[0;32m<ipython-input-1-378e75872028>\u001b[0m in \u001b[0;36m<module>\u001b[0;34m\u001b[0m\n\u001b[0;32m----> 1\u001b[0;31m \u001b[0;32mimport\u001b[0m \u001b[0mpandas\u001b[0m \u001b[0;32mas\u001b[0m \u001b[0mpd\u001b[0m\u001b[0;34m\u001b[0m\u001b[0;34m\u001b[0m\u001b[0m\n\u001b[0m\u001b[1;32m      2\u001b[0m \u001b[0;32mimport\u001b[0m \u001b[0mnumpy\u001b[0m \u001b[0;32mas\u001b[0m \u001b[0mnp\u001b[0m\u001b[0;34m\u001b[0m\u001b[0;34m\u001b[0m\u001b[0m\n\u001b[1;32m      3\u001b[0m \u001b[0;32mimport\u001b[0m \u001b[0mmatplotlib\u001b[0m\u001b[0;34m.\u001b[0m\u001b[0mpyplot\u001b[0m \u001b[0;32mas\u001b[0m \u001b[0mplt\u001b[0m\u001b[0;34m\u001b[0m\u001b[0;34m\u001b[0m\u001b[0m\n\u001b[1;32m      4\u001b[0m \u001b[0;32mimport\u001b[0m \u001b[0mdatetime\u001b[0m\u001b[0;34m\u001b[0m\u001b[0;34m\u001b[0m\u001b[0m\n\u001b[1;32m      5\u001b[0m \u001b[0;34m\u001b[0m\u001b[0m\n",
      "\u001b[0;31mModuleNotFoundError\u001b[0m: No module named 'pandas'"
     ]
    }
   ],
   "source": [
    "import pandas as pd\n",
    "import numpy as np\n",
    "import matplotlib.pyplot as plt\n",
    "import datetime\n",
    "\n",
    "df = pd.read_csv('/home/cesar/Documents/freelas/analiseRadiacoesSolares/csv/2020_06_01_0000.csv', encoding=\"ISO-8859-1\", sep=',', header=1)"
   ]
  },
  {
   "cell_type": "markdown",
   "metadata": {},
   "source": [
    "## Ajuste do cabeçalho"
   ]
  },
  {
   "cell_type": "code",
   "execution_count": null,
   "metadata": {},
   "outputs": [],
   "source": [
    "#ajusta o cabeçalho\n",
    "dados = df.iloc[6:,[0,1,2,3,4,5,6,7,8]]\n",
    "dados.head()"
   ]
  },
  {
   "cell_type": "markdown",
   "metadata": {},
   "source": [
    "## Replace das vírgulas e formatação das colunas"
   ]
  },
  {
   "cell_type": "code",
   "execution_count": null,
   "metadata": {},
   "outputs": [],
   "source": [
    "#converte formato das colunas\n",
    "dados.Label = pd.to_datetime(dados.Label)\n",
    "dados.Ed0Gnd = dados.Ed0Gnd.replace('[^\\d.]', '', regex=True).astype(float)\n",
    "dados.Ed0305 = dados.Ed0305.replace('[^\\d.]', '', regex=True).astype(float)\n",
    "dados.Ed0313 = dados.Ed0313.replace('[^\\d.]', '', regex=True).astype(float)\n",
    "dados.Ed0320 = dados.Ed0320.replace('[^\\d.]', '', regex=True).astype(float)\n",
    "dados.Ed0340 = dados.Ed0340.replace('[^\\d.]', '', regex=True).astype(float)\n",
    "dados.Ed0380 = dados.Ed0380.replace('[^\\d.]', '', regex=True).astype(float)\n",
    "dados.Ed0395 = dados.Ed0395.replace('[^\\d.]', '', regex=True).astype(float)\n",
    "dados.Ed0PAR = dados.Ed0PAR.replace('[^\\d.]', '', regex=True).astype(float)\n",
    "\n",
    "dados.head()"
   ]
  },
  {
   "cell_type": "markdown",
   "metadata": {},
   "source": [
    "## Faz a estatística descritiva e transpõe o resultado"
   ]
  },
  {
   "cell_type": "code",
   "execution_count": null,
   "metadata": {},
   "outputs": [],
   "source": [
    "dados.describe()"
   ]
  },
  {
   "cell_type": "code",
   "execution_count": null,
   "metadata": {},
   "outputs": [],
   "source": [
    "#faz a estatística descritiva e transpõe o resultado\n",
    "data = dados.describe().T\n",
    "# print(data)\n",
    "data"
   ]
  },
  {
   "cell_type": "markdown",
   "metadata": {},
   "source": [
    "## Criação do DataFrame com os valores de máximo e os quartis"
   ]
  },
  {
   "cell_type": "code",
   "execution_count": null,
   "metadata": {},
   "outputs": [],
   "source": [
    "#ajuste para comparação do data(describe) com horaMax\n",
    "df2 = pd.DataFrame(data, columns = ['count', 'mean', 'std', 'min', '25%', '50%', '75%', 'max'])\n",
    "#df2['nova_coluna'] = 'NaN'\n",
    "df2['Ed0'] = ['Ed0Gnd','Ed0305','Ed0313','Ed0320','Ed0340','Ed0380','Ed0395','Ed0PAR']\n",
    "# print(df2)\n",
    "df2"
   ]
  },
  {
   "cell_type": "code",
   "execution_count": null,
   "metadata": {
    "scrolled": true
   },
   "outputs": [],
   "source": [
    "#obtém os máximos e respectivos horários(horaMax)\n",
    "a = (dados[['Label', 'Ed0Gnd']][dados.Ed0Gnd == dados.Ed0Gnd.max()])\n",
    "b = (dados[['Label', 'Ed0305']][dados.Ed0305 == dados.Ed0305.max()])\n",
    "c = (dados[['Label', 'Ed0313']][dados.Ed0313 == dados.Ed0313.max()])\n",
    "d = (dados[['Label', 'Ed0320']][dados.Ed0320 == dados.Ed0320.max()])\n",
    "e = (dados[['Label', 'Ed0340']][dados.Ed0340 == dados.Ed0340.max()])\n",
    "f = (dados[['Label', 'Ed0380']][dados.Ed0380 == dados.Ed0380.max()])\n",
    "g = (dados[['Label', 'Ed0395']][dados.Ed0395 == dados.Ed0395.max()])\n",
    "h = (dados[['Label', 'Ed0PAR']][dados.Ed0PAR == dados.Ed0PAR.max()])\n",
    "a\n",
    "# print(a)\n",
    "#type(a)"
   ]
  },
  {
   "cell_type": "code",
   "execution_count": null,
   "metadata": {},
   "outputs": [],
   "source": [
    "b"
   ]
  },
  {
   "cell_type": "code",
   "execution_count": null,
   "metadata": {},
   "outputs": [],
   "source": [
    "c"
   ]
  },
  {
   "cell_type": "code",
   "execution_count": null,
   "metadata": {},
   "outputs": [],
   "source": [
    "d"
   ]
  },
  {
   "cell_type": "code",
   "execution_count": null,
   "metadata": {},
   "outputs": [],
   "source": [
    "e"
   ]
  },
  {
   "cell_type": "code",
   "execution_count": null,
   "metadata": {},
   "outputs": [],
   "source": [
    "f"
   ]
  },
  {
   "cell_type": "code",
   "execution_count": null,
   "metadata": {},
   "outputs": [],
   "source": [
    "g"
   ]
  },
  {
   "cell_type": "code",
   "execution_count": null,
   "metadata": {},
   "outputs": [],
   "source": [
    "h"
   ]
  },
  {
   "cell_type": "markdown",
   "metadata": {},
   "source": [
    "## Cria novo DataFrame com Canal e horaMax"
   ]
  },
  {
   "cell_type": "code",
   "execution_count": null,
   "metadata": {},
   "outputs": [],
   "source": [
    "#concatena o horaMax\n",
    "canais = np.array(['Ed0Gnd','Ed0305','Ed0313','Ed0320','Ed0340','Ed0380','Ed0395','Ed0PAR'])\n",
    "horaMax = pd.concat([a['Label'], b['Label'], c['Label'], d['Label'], e['Label'], f['Label'], g['Label'], h['Label']])\n",
    "dataset = pd.DataFrame(data = {'Canal':canais, 'horaMax':horaMax})\n",
    "dataset"
   ]
  },
  {
   "cell_type": "markdown",
   "metadata": {},
   "source": [
    "## Mescla os DataFrames"
   ]
  },
  {
   "cell_type": "code",
   "execution_count": null,
   "metadata": {},
   "outputs": [],
   "source": [
    "#Mescla as tabelas\n",
    "exportar = pd.merge(df2,dataset, how='left', left_on=['Ed0'], right_on=['Canal'])\n",
    "exportar"
   ]
  },
  {
   "cell_type": "markdown",
   "metadata": {},
   "source": [
    "## Exporta o arquivo CSV"
   ]
  },
  {
   "cell_type": "code",
   "execution_count": null,
   "metadata": {},
   "outputs": [],
   "source": [
    "#exporta o arquivo tratado\n",
    "exportar.to_csv (r'/home/cesar/Documents/freelas/analiseRadiacoesSolares/exportcsv/dados30.csv', index = False, header=True)"
   ]
  }
 ],
 "metadata": {
  "kernelspec": {
   "display_name": "Python 3",
   "language": "python",
   "name": "python3"
  },
  "language_info": {
   "codemirror_mode": {
    "name": "ipython",
    "version": 3
   },
   "file_extension": ".py",
   "mimetype": "text/x-python",
   "name": "python",
   "nbconvert_exporter": "python",
   "pygments_lexer": "ipython3",
   "version": "3.6.9"
  }
 },
 "nbformat": 4,
 "nbformat_minor": 4
}
