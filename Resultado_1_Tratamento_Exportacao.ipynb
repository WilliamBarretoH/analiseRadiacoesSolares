{
 "cells": [
  {
   "cell_type": "code",
   "execution_count": 1,
   "metadata": {},
   "outputs": [],
   "source": [
    "import pandas as pd\n",
    "import numpy as np\n",
    "import matplotlib.pyplot as plt\n",
    "import datetime\n",
    "\n",
    "df = pd.read_csv('C:/Users/Ray/Desktop/DidaticaTech/JUN2020/2020_06_01_0000.csv', encoding=\"ISO-8859-1\", sep=',', header=1)"
   ]
  },
  {
   "cell_type": "code",
   "execution_count": 2,
   "metadata": {},
   "outputs": [],
   "source": [
    "#ajusta o cabeçalho\n",
    "dados = df.iloc[6:,[0,1,2,3,4,5,6,7,8]]\n",
    "#converte formato das colunas\n",
    "dados.Label = pd.to_datetime(dados.Label)\n",
    "dados.Ed0Gnd = dados.Ed0Gnd.replace('[^\\d.]', '', regex=True).astype(float)\n",
    "dados.Ed0305 = dados.Ed0305.replace('[^\\d.]', '', regex=True).astype(float)\n",
    "dados.Ed0313 = dados.Ed0313.replace('[^\\d.]', '', regex=True).astype(float)\n",
    "dados.Ed0320 = dados.Ed0320.replace('[^\\d.]', '', regex=True).astype(float)\n",
    "dados.Ed0340 = dados.Ed0340.replace('[^\\d.]', '', regex=True).astype(float)\n",
    "dados.Ed0380 = dados.Ed0380.replace('[^\\d.]', '', regex=True).astype(float)\n",
    "dados.Ed0395 = dados.Ed0395.replace('[^\\d.]', '', regex=True).astype(float)\n",
    "dados.Ed0PAR = dados.Ed0PAR.replace('[^\\d.]', '', regex=True).astype(float)\n",
    "\n",
    "#dados.dtypes"
   ]
  },
  {
   "cell_type": "code",
   "execution_count": 7,
   "metadata": {},
   "outputs": [],
   "source": [
    "#faz a estatística descritiva e transpõe o resultado\n",
    "data = dados.describe().T\n",
    "#print(data)"
   ]
  },
  {
   "cell_type": "code",
   "execution_count": 8,
   "metadata": {},
   "outputs": [],
   "source": [
    "#ajuste para comparação do data(describe) com horaMax\n",
    "df2 = pd.DataFrame(data, columns = ['count', 'mean', 'std', 'min', '25%', '50%', '75%', 'max'])\n",
    "#df2['nova_coluna'] = 'NaN'\n",
    "df2['Ed0'] = ['Ed0Gnd','Ed0305','Ed0313','Ed0320','Ed0340','Ed0380','Ed0395','Ed0PAR']\n",
    "#print(df2)"
   ]
  },
  {
   "cell_type": "code",
   "execution_count": 9,
   "metadata": {
    "scrolled": true
   },
   "outputs": [],
   "source": [
    "#obtém os máximos e respectivos horários(horaMax)\n",
    "a = (dados[['Label', 'Ed0Gnd']][dados.Ed0Gnd == dados.Ed0Gnd.max()])\n",
    "b = (dados[['Label', 'Ed0305']][dados.Ed0305 == dados.Ed0305.max()])\n",
    "c = (dados[['Label', 'Ed0313']][dados.Ed0313 == dados.Ed0313.max()])\n",
    "d = (dados[['Label', 'Ed0320']][dados.Ed0320 == dados.Ed0320.max()])\n",
    "e = (dados[['Label', 'Ed0340']][dados.Ed0340 == dados.Ed0340.max()])\n",
    "f = (dados[['Label', 'Ed0380']][dados.Ed0380 == dados.Ed0380.max()])\n",
    "g = (dados[['Label', 'Ed0395']][dados.Ed0395 == dados.Ed0395.max()])\n",
    "h = (dados[['Label', 'Ed0PAR']][dados.Ed0PAR == dados.Ed0PAR.max()])\n",
    "\n",
    "#type(a)"
   ]
  },
  {
   "cell_type": "code",
   "execution_count": 13,
   "metadata": {},
   "outputs": [],
   "source": [
    "#concatena o horaMax\n",
    "canais = np.array(['Ed0Gnd','Ed0305','Ed0313','Ed0320','Ed0340','Ed0380','Ed0395','Ed0PAR'])\n",
    "horaMax = pd.concat([a['Label'], b['Label'], c['Label'], d['Label'], e['Label'], f['Label'], g['Label'], h['Label']])\n",
    "dataset = pd.DataFrame(data = {'Canal':canais, 'horaMax':horaMax})\n",
    "#print(dataset)"
   ]
  },
  {
   "cell_type": "code",
   "execution_count": 12,
   "metadata": {},
   "outputs": [],
   "source": [
    "#Mescla as tabelas\n",
    "exportar = pd.merge(df2,dataset, how='left', left_on=['Ed0'], right_on=['Canal'])\n",
    "#print(exportar)"
   ]
  },
  {
   "cell_type": "code",
   "execution_count": 110,
   "metadata": {},
   "outputs": [],
   "source": [
    "#exporta o arquivo tratado\n",
    "exportar.to_csv (r'C:/Users/Ray/Desktop/GUV156_Jun2020.csv', index = False, header=True)"
   ]
  }
 ],
 "metadata": {
  "kernelspec": {
   "display_name": "Python 3",
   "language": "python",
   "name": "python3"
  },
  "language_info": {
   "codemirror_mode": {
    "name": "ipython",
    "version": 3
   },
   "file_extension": ".py",
   "mimetype": "text/x-python",
   "name": "python",
   "nbconvert_exporter": "python",
   "pygments_lexer": "ipython3",
   "version": "3.8.3"
  }
 },
 "nbformat": 4,
 "nbformat_minor": 4
}
